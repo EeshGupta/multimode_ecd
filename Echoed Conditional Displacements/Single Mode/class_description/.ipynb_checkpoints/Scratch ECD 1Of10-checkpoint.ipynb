{
 "cells": [
  {
   "cell_type": "markdown",
   "id": "03d7f76a",
   "metadata": {},
   "source": [
    "# AIM\n",
    "\n",
    "NOTE: I am getting number of layers from fig 2a of https://arxiv.org/pdf/2111.06414.pdf\n",
    "\n",
    "### Part 1\n",
    "This notebook just generates the ECD parameters (the angles for conditional displacement and qubit rotations). It assumes that we can enact conditional displacement gates and qubit rotation gates. What we need though are the angles through which we can prepare distance fock states in the cavity\n",
    "\n",
    "### Part 2\n",
    "Given the param in part 1, in this part we test them by doing unitary time evolution of ECD gates"
   ]
  },
  {
   "cell_type": "markdown",
   "id": "4759c549",
   "metadata": {},
   "source": [
    "### 1. Part 1"
   ]
  },
  {
   "cell_type": "code",
   "execution_count": 1,
   "id": "8188c3c4",
   "metadata": {},
   "outputs": [],
   "source": [
    "import sys \n",
    "sys.path.append('C:\\\\Users\\\\Eesh Gupta\\\\Documents\\\\RU Research\\\\Chakram')\n",
    "sys.path.append('C:\\\\Users\\\\Eesh Gupta\\\\Documents\\\\RU Research\\\\Chakram\\\\ECD_control')\n"
   ]
  },
  {
   "cell_type": "code",
   "execution_count": 2,
   "id": "22c927fd",
   "metadata": {},
   "outputs": [
    {
     "name": "stdout",
     "output_type": "stream",
     "text": [
      "\n",
      "Need tf version 2.3.0 or later. Using tensorflow version: 2.7.0\n",
      "\n",
      "\n",
      "Need tf version 2.3.0 or later. Using tensorflow version: 2.7.0\n",
      "\n"
     ]
    },
    {
     "data": {
      "text/plain": [
       "[name: \"/device:CPU:0\"\n",
       " device_type: \"CPU\"\n",
       " memory_limit: 268435456\n",
       " locality {\n",
       " }\n",
       " incarnation: 5531106697943321022\n",
       " xla_global_id: -1]"
      ]
     },
     "execution_count": 2,
     "metadata": {},
     "output_type": "execute_result"
    }
   ],
   "source": [
    "# from ECD_control import ECD_optimization\n",
    "# from ECD_control import ECD_pulse_construction\n",
    "\n",
    "import numpy as np\n",
    "import qutip as qt \n",
    "from ECD_new_batch_optimizer import BatchOptimizer\n",
    "from ECD_control.ECD_optimization.optimization_analysis import OptimizationAnalysis, OptimizationSweepsAnalysis\n",
    "import matplotlib.pyplot as plt\n",
    "from tensorflow.python.client import device_lib\n",
    "device_lib.list_local_devices()"
   ]
  },
  {
   "cell_type": "code",
   "execution_count": 3,
   "id": "3d2619eb",
   "metadata": {},
   "outputs": [],
   "source": [
    "#The target oscillator state.\n",
    "N =10\n",
    "Fock = 1\n",
    "psi_t = qt.basis(N,Fock) #target state"
   ]
  },
  {
   "cell_type": "code",
   "execution_count": 4,
   "id": "023943c2",
   "metadata": {},
   "outputs": [
    {
     "data": {
      "text/latex": [
       "Quantum object: dims = [[10], [1]], shape = (10, 1), type = ket\\begin{equation*}\\left(\\begin{array}{*{11}c}0.0\\\\1.0\\\\0.0\\\\0.0\\\\0.0\\\\0.0\\\\0.0\\\\0.0\\\\0.0\\\\0.0\\\\\\end{array}\\right)\\end{equation*}"
      ],
      "text/plain": [
       "Quantum object: dims = [[10], [1]], shape = (10, 1), type = ket\n",
       "Qobj data =\n",
       "[[0.]\n",
       " [1.]\n",
       " [0.]\n",
       " [0.]\n",
       " [0.]\n",
       " [0.]\n",
       " [0.]\n",
       " [0.]\n",
       " [0.]\n",
       " [0.]]"
      ]
     },
     "execution_count": 4,
     "metadata": {},
     "output_type": "execute_result"
    }
   ],
   "source": [
    "psi_t"
   ]
  },
  {
   "cell_type": "code",
   "execution_count": 5,
   "id": "c3f2427c",
   "metadata": {},
   "outputs": [],
   "source": [
    "#Optimization of ECD Circuit parameters (betas, phis, and thetas)\n",
    "#the optimization options\n",
    "opt_params = {\n",
    "'N_blocks' : 4, #circuit depth\n",
    "'N_multistart' : 200, #Batch size (number of circuit optimizations to run in parallel)\n",
    "'epochs' : 200, #number of epochs before termination\n",
    "'epoch_size' : 10, #number of adam steps per epoch\n",
    "'learning_rate' : 0.01, #adam learning rate\n",
    "'term_fid' : 0.995, #terminal fidelitiy\n",
    "'dfid_stop' : 1e-6, #stop if dfid between two epochs is smaller than this number\n",
    "'beta_scale' : 3.0, #maximum |beta| for random initialization\n",
    "'initial_states' : [qt.tensor(qt.basis(2,0),qt.basis(N,0))], #qubit tensor oscillator, start in |g> |0>\n",
    "'target_states' : [qt.tensor(qt.basis(2,0), psi_t)], #end in |e> |target>.\n",
    "'name' : 'Fock %d' % Fock, #name for printing and saving\n",
    "'filename' : None, #if no filename specified, results will be saved in this folder under 'name.h5'\n",
    "}\n",
    "\n",
    "\n",
    "#note: optimizer includes pi pulse in every ECD step. However, final ECD step is implemented \n",
    "#in experiment as a displacement since the qubit and oscillator should be disentangled at this point.\n",
    "#So, we ask the optimizer to end in |e> |target> instead of |g>|target>."
   ]
  },
  {
   "cell_type": "markdown",
   "id": "f7c93207",
   "metadata": {},
   "source": [
    "#### Filename for angles to be stored"
   ]
  },
  {
   "cell_type": "code",
   "execution_count": 6,
   "id": "84333d2b",
   "metadata": {},
   "outputs": [],
   "source": [
    "fname = 'ECD_Angles_Fock1Of10_4ECD_1.txt'"
   ]
  },
  {
   "cell_type": "code",
   "execution_count": 7,
   "id": "12889424",
   "metadata": {},
   "outputs": [
    {
     "name": "stdout",
     "output_type": "stream",
     "text": [
      "None\n",
      "Tensor(\"alphas:0\", shape=(1, 200), dtype=complex64)\n",
      "Tensor(\"alphas:0\", shape=(4, 200), dtype=complex64)\n",
      "optimization_type: state transfer\n",
      "N_multistart: 200\n",
      "N_blocks: 4\n",
      "term_fid: 0.995\n",
      "dfid_stop: 1e-06\n",
      "no_CD_end: False\n",
      "learning_rate: 0.01\n",
      "epoch_size: 10\n",
      "epochs: 200\n",
      "beta_scale: 3.0\n",
      "alpha_scale: 1.0\n",
      "theta_scale: 3.141592653589793\n",
      "use_displacements: False\n",
      "use_phase: False\n",
      "name: Fock 1\n",
      "comment: \n",
      "user_angles: None\n",
      "N_cav: 10\n",
      "filename: Fock 1.h5\n",
      "\n",
      "Best circuit parameters found:\n",
      "betas:         [ 0.83853-2.64585j  1.27139+1.03834j -0.95425-0.11386j -0.10819-0.14623j]\n",
      "alphas:        [0.+0.j]\n",
      "phis (deg):    [  0.       68.6512  -61.81153 -34.85173]\n",
      "thetas (deg):  [ -37.00364 -169.93959 -100.01453  -59.20647]\n",
      "Max Fidelity:  0.374920\n",
      "\n",
      "\n"
     ]
    }
   ],
   "source": [
    "#create optimization object. \n",
    "#initial params will be randomized upon creation\n",
    "opt = BatchOptimizer(**opt_params)\n",
    "\n",
    "#print optimization info. \n",
    "opt.print_info()"
   ]
  },
  {
   "cell_type": "code",
   "execution_count": 8,
   "id": "2cdd768a",
   "metadata": {},
   "outputs": [
    {
     "name": "stdout",
     "output_type": "stream",
     "text": [
      "Start time: 2022-09-14 08:27:37\n",
      " Epoch: 52 / 200 Max Fid: 0.981403 Avg Fid: 0.850537 Max dFid: 0.044644 Avg dFid: 0.000705 Elapsed time: 0:00:33.161206 Remaing time: 0:01:34.381893"
     ]
    },
    {
     "ename": "KeyboardInterrupt",
     "evalue": "",
     "output_type": "error",
     "traceback": [
      "\u001b[1;31m---------------------------------------------------------------------------\u001b[0m",
      "\u001b[1;31mKeyboardInterrupt\u001b[0m                         Traceback (most recent call last)",
      "\u001b[1;32m<ipython-input-8-0df2e72ed479>\u001b[0m in \u001b[0;36m<module>\u001b[1;34m\u001b[0m\n\u001b[0;32m      1\u001b[0m \u001b[1;31m#run optimizer.\u001b[0m\u001b[1;33m\u001b[0m\u001b[1;33m\u001b[0m\u001b[1;33m\u001b[0m\u001b[0m\n\u001b[1;32m----> 2\u001b[1;33m \u001b[0mopt\u001b[0m\u001b[1;33m.\u001b[0m\u001b[0moptimize\u001b[0m\u001b[1;33m(\u001b[0m\u001b[1;33m)\u001b[0m\u001b[1;33m\u001b[0m\u001b[1;33m\u001b[0m\u001b[0m\n\u001b[0m",
      "\u001b[1;32m~\\Documents\\RU Research\\Chakram\\Multimode-Conditional-Displacements\\hpc_runs\\single_mode_ecd\\Simulation Class Description\\ECD_new_batch_optimizer.py\u001b[0m in \u001b[0;36moptimize\u001b[1;34m(self, do_prints)\u001b[0m\n\u001b[0;32m    738\u001b[0m                     )\n\u001b[0;32m    739\u001b[0m                     \u001b[0mnew_loss\u001b[0m \u001b[1;33m=\u001b[0m \u001b[0mloss_fun\u001b[0m\u001b[1;33m(\u001b[0m\u001b[0mnew_fids\u001b[0m\u001b[1;33m)\u001b[0m\u001b[1;33m\u001b[0m\u001b[1;33m\u001b[0m\u001b[0m\n\u001b[1;32m--> 740\u001b[1;33m                     \u001b[0mdloss_dvar\u001b[0m \u001b[1;33m=\u001b[0m \u001b[0mtape\u001b[0m\u001b[1;33m.\u001b[0m\u001b[0mgradient\u001b[0m\u001b[1;33m(\u001b[0m\u001b[0mnew_loss\u001b[0m\u001b[1;33m,\u001b[0m \u001b[0mvariables\u001b[0m\u001b[1;33m)\u001b[0m\u001b[1;33m\u001b[0m\u001b[1;33m\u001b[0m\u001b[0m\n\u001b[0m\u001b[0;32m    741\u001b[0m                 \u001b[0moptimizer\u001b[0m\u001b[1;33m.\u001b[0m\u001b[0mapply_gradients\u001b[0m\u001b[1;33m(\u001b[0m\u001b[0mzip\u001b[0m\u001b[1;33m(\u001b[0m\u001b[0mdloss_dvar\u001b[0m\u001b[1;33m,\u001b[0m \u001b[0mvariables\u001b[0m\u001b[1;33m)\u001b[0m\u001b[1;33m)\u001b[0m\u001b[1;33m\u001b[0m\u001b[1;33m\u001b[0m\u001b[0m\n\u001b[0;32m    742\u001b[0m             \u001b[0mdfids\u001b[0m \u001b[1;33m=\u001b[0m \u001b[0mnew_fids\u001b[0m \u001b[1;33m-\u001b[0m \u001b[0mfids\u001b[0m\u001b[1;33m\u001b[0m\u001b[1;33m\u001b[0m\u001b[0m\n",
      "\u001b[1;32m~\\anaconda\\lib\\site-packages\\tensorflow\\python\\eager\\backprop.py\u001b[0m in \u001b[0;36mgradient\u001b[1;34m(self, target, sources, output_gradients, unconnected_gradients)\u001b[0m\n\u001b[0;32m   1082\u001b[0m                           for x in nest.flatten(output_gradients)]\n\u001b[0;32m   1083\u001b[0m \u001b[1;33m\u001b[0m\u001b[0m\n\u001b[1;32m-> 1084\u001b[1;33m     flat_grad = imperative_grad.imperative_grad(\n\u001b[0m\u001b[0;32m   1085\u001b[0m         \u001b[0mself\u001b[0m\u001b[1;33m.\u001b[0m\u001b[0m_tape\u001b[0m\u001b[1;33m,\u001b[0m\u001b[1;33m\u001b[0m\u001b[1;33m\u001b[0m\u001b[0m\n\u001b[0;32m   1086\u001b[0m         \u001b[0mflat_targets\u001b[0m\u001b[1;33m,\u001b[0m\u001b[1;33m\u001b[0m\u001b[1;33m\u001b[0m\u001b[0m\n",
      "\u001b[1;32m~\\anaconda\\lib\\site-packages\\tensorflow\\python\\eager\\imperative_grad.py\u001b[0m in \u001b[0;36mimperative_grad\u001b[1;34m(tape, target, sources, output_gradients, sources_raw, unconnected_gradients)\u001b[0m\n\u001b[0;32m     69\u001b[0m         \"Unknown value for unconnected_gradients: %r\" % unconnected_gradients)\n\u001b[0;32m     70\u001b[0m \u001b[1;33m\u001b[0m\u001b[0m\n\u001b[1;32m---> 71\u001b[1;33m   return pywrap_tfe.TFE_Py_TapeGradient(\n\u001b[0m\u001b[0;32m     72\u001b[0m       \u001b[0mtape\u001b[0m\u001b[1;33m.\u001b[0m\u001b[0m_tape\u001b[0m\u001b[1;33m,\u001b[0m  \u001b[1;31m# pylint: disable=protected-access\u001b[0m\u001b[1;33m\u001b[0m\u001b[1;33m\u001b[0m\u001b[0m\n\u001b[0;32m     73\u001b[0m       \u001b[0mtarget\u001b[0m\u001b[1;33m,\u001b[0m\u001b[1;33m\u001b[0m\u001b[1;33m\u001b[0m\u001b[0m\n",
      "\u001b[1;32m~\\anaconda\\lib\\site-packages\\tensorflow\\python\\eager\\function.py\u001b[0m in \u001b[0;36m_backward_function_wrapper\u001b[1;34m(*args)\u001b[0m\n\u001b[0;32m   1304\u001b[0m         \u001b[1;32mif\u001b[0m \u001b[0minput_index\u001b[0m \u001b[1;33m>=\u001b[0m \u001b[0mbackward_function_inputs\u001b[0m\u001b[1;33m:\u001b[0m\u001b[1;33m\u001b[0m\u001b[1;33m\u001b[0m\u001b[0m\n\u001b[0;32m   1305\u001b[0m           \u001b[1;32mbreak\u001b[0m\u001b[1;33m\u001b[0m\u001b[1;33m\u001b[0m\u001b[0m\n\u001b[1;32m-> 1306\u001b[1;33m       return backward._call_flat(  # pylint: disable=protected-access\n\u001b[0m\u001b[0;32m   1307\u001b[0m           processed_args, remapped_captures)\n\u001b[0;32m   1308\u001b[0m \u001b[1;33m\u001b[0m\u001b[0m\n",
      "\u001b[1;32m~\\anaconda\\lib\\site-packages\\tensorflow\\python\\eager\\function.py\u001b[0m in \u001b[0;36m_call_flat\u001b[1;34m(self, args, captured_inputs, cancellation_manager)\u001b[0m\n\u001b[0;32m   1957\u001b[0m         and executing_eagerly):\n\u001b[0;32m   1958\u001b[0m       \u001b[1;31m# No tape is watching; skip to running the function.\u001b[0m\u001b[1;33m\u001b[0m\u001b[1;33m\u001b[0m\u001b[1;33m\u001b[0m\u001b[0m\n\u001b[1;32m-> 1959\u001b[1;33m       return self._build_call_outputs(self._inference_function.call(\n\u001b[0m\u001b[0;32m   1960\u001b[0m           ctx, args, cancellation_manager=cancellation_manager))\n\u001b[0;32m   1961\u001b[0m     forward_backward = self._select_forward_and_backward_functions(\n",
      "\u001b[1;32m~\\anaconda\\lib\\site-packages\\tensorflow\\python\\eager\\function.py\u001b[0m in \u001b[0;36mcall\u001b[1;34m(self, ctx, args, cancellation_manager)\u001b[0m\n\u001b[0;32m    596\u001b[0m       \u001b[1;32mwith\u001b[0m \u001b[0m_InterpolateFunctionError\u001b[0m\u001b[1;33m(\u001b[0m\u001b[0mself\u001b[0m\u001b[1;33m)\u001b[0m\u001b[1;33m:\u001b[0m\u001b[1;33m\u001b[0m\u001b[1;33m\u001b[0m\u001b[0m\n\u001b[0;32m    597\u001b[0m         \u001b[1;32mif\u001b[0m \u001b[0mcancellation_manager\u001b[0m \u001b[1;32mis\u001b[0m \u001b[1;32mNone\u001b[0m\u001b[1;33m:\u001b[0m\u001b[1;33m\u001b[0m\u001b[1;33m\u001b[0m\u001b[0m\n\u001b[1;32m--> 598\u001b[1;33m           outputs = execute.execute(\n\u001b[0m\u001b[0;32m    599\u001b[0m               \u001b[0mstr\u001b[0m\u001b[1;33m(\u001b[0m\u001b[0mself\u001b[0m\u001b[1;33m.\u001b[0m\u001b[0msignature\u001b[0m\u001b[1;33m.\u001b[0m\u001b[0mname\u001b[0m\u001b[1;33m)\u001b[0m\u001b[1;33m,\u001b[0m\u001b[1;33m\u001b[0m\u001b[1;33m\u001b[0m\u001b[0m\n\u001b[0;32m    600\u001b[0m               \u001b[0mnum_outputs\u001b[0m\u001b[1;33m=\u001b[0m\u001b[0mself\u001b[0m\u001b[1;33m.\u001b[0m\u001b[0m_num_outputs\u001b[0m\u001b[1;33m,\u001b[0m\u001b[1;33m\u001b[0m\u001b[1;33m\u001b[0m\u001b[0m\n",
      "\u001b[1;32m~\\anaconda\\lib\\site-packages\\tensorflow\\python\\eager\\execute.py\u001b[0m in \u001b[0;36mquick_execute\u001b[1;34m(op_name, num_outputs, inputs, attrs, ctx, name)\u001b[0m\n\u001b[0;32m     56\u001b[0m   \u001b[1;32mtry\u001b[0m\u001b[1;33m:\u001b[0m\u001b[1;33m\u001b[0m\u001b[1;33m\u001b[0m\u001b[0m\n\u001b[0;32m     57\u001b[0m     \u001b[0mctx\u001b[0m\u001b[1;33m.\u001b[0m\u001b[0mensure_initialized\u001b[0m\u001b[1;33m(\u001b[0m\u001b[1;33m)\u001b[0m\u001b[1;33m\u001b[0m\u001b[1;33m\u001b[0m\u001b[0m\n\u001b[1;32m---> 58\u001b[1;33m     tensors = pywrap_tfe.TFE_Py_Execute(ctx._handle, device_name, op_name,\n\u001b[0m\u001b[0;32m     59\u001b[0m                                         inputs, attrs, num_outputs)\n\u001b[0;32m     60\u001b[0m   \u001b[1;32mexcept\u001b[0m \u001b[0mcore\u001b[0m\u001b[1;33m.\u001b[0m\u001b[0m_NotOkStatusException\u001b[0m \u001b[1;32mas\u001b[0m \u001b[0me\u001b[0m\u001b[1;33m:\u001b[0m\u001b[1;33m\u001b[0m\u001b[1;33m\u001b[0m\u001b[0m\n",
      "\u001b[1;31mKeyboardInterrupt\u001b[0m: "
     ]
    }
   ],
   "source": [
    "#run optimizer.\n",
    "opt.optimize()"
   ]
  },
  {
   "cell_type": "code",
   "execution_count": 9,
   "id": "a37c0500",
   "metadata": {},
   "outputs": [
    {
     "name": "stdout",
     "output_type": "stream",
     "text": [
      "optimization_type: state transfer\n",
      "N_multistart: 200\n",
      "N_blocks: 4\n",
      "term_fid: 0.995\n",
      "dfid_stop: 1e-06\n",
      "no_CD_end: False\n",
      "learning_rate: 0.01\n",
      "epoch_size: 10\n",
      "epochs: 200\n",
      "beta_scale: 3.0\n",
      "alpha_scale: 1.0\n",
      "theta_scale: 3.141592653589793\n",
      "use_displacements: False\n",
      "use_phase: False\n",
      "name: Fock 1\n",
      "comment: \n",
      "user_angles: None\n",
      "N_cav: 10\n",
      "filename: Fock 1.h5\n",
      "\n",
      "Best circuit parameters found:\n",
      "betas:         [-1.5577 +0.16655j -0.10771-1.00735j  0.65047-0.06955j  0.     +0.j     ]\n",
      "alphas:        [0.+0.j]\n",
      "phis (deg):    [   0.       -89.99982  -90.00066 -179.99937]\n",
      "thetas (deg):  [-89.99999 -89.99994  90.00002  89.99982]\n",
      "Max Fidelity:  0.981403\n",
      "\n",
      "\n"
     ]
    }
   ],
   "source": [
    "#can print info, including the best circuit found.\n",
    "opt.print_info() "
   ]
  },
  {
   "cell_type": "markdown",
   "id": "2a4a42b3",
   "metadata": {},
   "source": [
    "### Saving angles: My way (without using h5 files, just the standard txt)"
   ]
  },
  {
   "cell_type": "code",
   "execution_count": 10,
   "id": "3b7af01f",
   "metadata": {},
   "outputs": [],
   "source": [
    "#\n",
    "betas = opt.best_circuit()['betas']\n",
    "phis = opt.best_circuit()['phis']\n",
    "thetas = opt.best_circuit()['thetas']\n",
    "\n",
    "params = [np.real(betas), np.imag(betas), phis, thetas]\n",
    "for i in range(len(params)):\n",
    "    params[i] = [float(k) for k in params[i]]\n",
    "\n",
    "a_file = open(fname, \"w\")\n",
    "np.savetxt(a_file, params)\n",
    "a_file.close()"
   ]
  },
  {
   "cell_type": "code",
   "execution_count": 11,
   "id": "1b7ffb03",
   "metadata": {},
   "outputs": [],
   "source": [
    "#Analysis of the results. Can load the .h5 file.\n",
    "#all data is stored as a timestamp in a .h5 file\n",
    "#You can also specify which timestamp you are analyzing. Be defult, it will use the most recent optimization in the file.\n",
    "#I  recommend using \"HDFview\" software to understand data structure\n",
    "#filename = opt.filename\n",
    "# filename = 'Fock %d.h5' % Fock\n",
    "# analysis = OptimizationAnalysis(filename)\n",
    "# analysis.print_info() #we can print info of best circuit"
   ]
  },
  {
   "cell_type": "code",
   "execution_count": 12,
   "id": "b84b8ee8",
   "metadata": {},
   "outputs": [],
   "source": [
    "#We can plot the fidelities of the different parallel optimizations\n",
    "#analysis.plot_fidelities()"
   ]
  },
  {
   "cell_type": "code",
   "execution_count": 13,
   "id": "cb4ba5a1",
   "metadata": {},
   "outputs": [],
   "source": [
    "#We can also load the best circuit, states, and other parameters (see OptimizationAnalysis class)\n",
    "# best_circuit = analysis.best_circuit()\n",
    "# print(best_circuit)\n",
    "# target_state = analysis.target_state()\n",
    "# print(target_state)"
   ]
  },
  {
   "cell_type": "code",
   "execution_count": 14,
   "id": "7a489456",
   "metadata": {},
   "outputs": [],
   "source": [
    "#there are a few other things we can plot.\n",
    "# analysis.plot_mag_betas()\n",
    "# analysis.plot_average_magnitude_beta()"
   ]
  },
  {
   "cell_type": "markdown",
   "id": "bbee5c72",
   "metadata": {},
   "source": [
    "### 2. Part 2"
   ]
  },
  {
   "cell_type": "markdown",
   "id": "754d0e0a",
   "metadata": {},
   "source": [
    "##### Getting the Drive"
   ]
  },
  {
   "cell_type": "code",
   "execution_count": 15,
   "id": "2e5095ae",
   "metadata": {},
   "outputs": [],
   "source": [
    "from Simplified_ECD_pulse_construction import *"
   ]
  },
  {
   "cell_type": "code",
   "execution_count": 16,
   "id": "52a2c766",
   "metadata": {},
   "outputs": [],
   "source": [
    "import numpy as np"
   ]
  },
  {
   "cell_type": "code",
   "execution_count": 17,
   "id": "0bbbe672",
   "metadata": {},
   "outputs": [],
   "source": [
    "class ecd_pulse_single_mode: \n",
    "    \n",
    "    def __init__(self, \n",
    "                 param_file = None, \n",
    "                 storage_params = None, \n",
    "                 qubit_params = None, \n",
    "                 alpha_CD =30, \n",
    "                 buffer_time = 4): \n",
    "        '''\n",
    "        betas, thetas, phis : ecd parameters\n",
    "        n_q : # of levels in the qubit\n",
    "        n_c : # of levels in the cavity \n",
    "        \n",
    "        storage_params : {\n",
    "                            \"chi_kHz\": -33, #dispersive shift\n",
    "                            \"chi_prime_Hz\": 0, #second order dispersive shift\n",
    "                            \"Ks_Hz\": 0, #Kerr correction not yet implemented.\n",
    "                            \"epsilon_m_MHz\": 400, #largest oscillator drive amplitude in MHz (max|epsilon|)\n",
    "                            \"unit_amp\": 0.01, #DAC unit amp of gaussian displacement to alpha=1.\n",
    "                            \"sigma\": 11, #oscillator displacement sigma\n",
    "                            \"chop\": 4, #oscillator displacement chop (number of stds. to include in gaussian pulse)\n",
    "                        }\n",
    "                        \n",
    "        qubit_params : {'unit_amp': 0.5, 'sigma': 6, 'chop': 4} #parameters for qubit pi pulse.\n",
    "        '''\n",
    "        self.param_file = param_file # for loading parameters\n",
    "        self.betas = None\n",
    "        self.phis = None\n",
    "        self.thetas = None\n",
    "        self.load_params()\n",
    "        \n",
    "        #Pulse parameters\n",
    "        self.storage_params = storage_params\n",
    "        if storage_params == None: \n",
    "            self.storage_params = {\n",
    "                            \"chi_kHz\": -33, \n",
    "                            \"chi_prime_Hz\": 0, \n",
    "                            \"Ks_Hz\": 0,\n",
    "                            \"epsilon_m_MHz\": 400, \n",
    "                            \"unit_amp\": 0.01, \n",
    "                            \"sigma\": 11, \n",
    "                            \"chop\": 4, \n",
    "                        }\n",
    "            \n",
    "        self.qubit_params = qubit_params\n",
    "        if self.qubit_params == None: \n",
    "            self.qubit_params = {'unit_amp': 0.5,\n",
    "                                 'sigma': 6, \n",
    "                                 'chop': 4} \n",
    "        self.storage = None\n",
    "        self.qubit = None\n",
    "        \n",
    "        \n",
    "        #parameters obtained after get_pulse() is called\n",
    "        self.cavity_dac_pulse_GHz = None\n",
    "        self.qubit_dac_pulse_GHz = None\n",
    "        self.alpha = None \n",
    "        \n",
    "        #other keyword params\n",
    "        self.alpha_CD = alpha_CD\n",
    "        self.buffer_time = buffer_time\n",
    "        \n",
    "        \n",
    "    \n",
    "    ####\n",
    "    import cmath\n",
    "    ####\n",
    "    def load_params(self): \n",
    "        '''\n",
    "        Loads betas, thetas, phis\n",
    "        '''\n",
    "        params = np.loadtxt(self.param_file)\n",
    "        self.betas = np.asarray([complex(params[0][i], params[1][i]) for i in range(len(params[0]))])\n",
    "        self.phis = params[2]\n",
    "        self.thetas = params[3]\n",
    "        return None\n",
    "    \n",
    "    def get_pulses(self): \n",
    "        '''\n",
    "        Evaluates cavity and qubit pulses for the desired ECD simulation\n",
    "        '''\n",
    "        #Creates objects\n",
    "        self.storage = FakeStorage(**self.storage_params)\n",
    "        self.qubit = FakeQubit(**self.qubit_params)\n",
    "        \n",
    "        #Qubit pi pulse stuff ... calculating conversion between qubit DAC units and MHz (Omega)\n",
    "        pi = rotate(np.pi, phi=0, sigma=self.qubit_params['sigma'], chop=self.qubit_params['chop'], dt=1)\n",
    "        Omega_m = np.real(np.max(pi))/self.qubit_params['unit_amp']\n",
    "        \n",
    "        #get pulses\n",
    "        pulse_dict = conditional_displacement_circuit(self.betas, self.phis, \n",
    "                                                      self.thetas, \n",
    "                                                      self.storage, \n",
    "                                                      self.qubit,\n",
    "                                                      self.alpha_CD,\n",
    "                                                      buffer_time = self.buffer_time, \n",
    "                                                      kerr_correction = False, \n",
    "                                                      chi_prime_correction=True,\n",
    "                                                      final_disp=True, \n",
    "                                                      pad=True)\n",
    "        \n",
    "        \n",
    "        cavity_dac_pulse, qubit_dac_pulse, = pulse_dict['cavity_dac_pulse'], pulse_dict['qubit_dac_pulse']\n",
    "\n",
    "        # conversions\n",
    "        self.cavity_dac_pulse_GHz = (2*np.pi)*(10**(-3))*self.storage.epsilon_m_MHz*cavity_dac_pulse #convert from DAC to Mhz to Ghz\n",
    "        self.qubit_dac_pulse_GHz = (2*np.pi)*10**(-3)*self.qubit.Omega_m_MHz*qubit_dac_pulse #convert from DAC to Mhz to Ghz\n",
    "        #alpha\n",
    "        self.get_alpha()\n",
    "        \n",
    "        return None\n",
    "    \n",
    "    def alpha_from_epsilon_nonlinear_finite_difference(\n",
    "        self, epsilon_array, delta=0, alpha_init=0 + 0j):\n",
    "        dt = 1\n",
    "        alpha = np.zeros_like(epsilon_array)\n",
    "        alpha[0] = alpha_init\n",
    "        alpha[1] = alpha_init\n",
    "        for j in range(1, len(epsilon_array) - 1):\n",
    "            alpha[j + 1] = (\n",
    "                    2*\n",
    "                     dt\n",
    "                    * (\n",
    "                        -1j * delta# * alpha[j]\n",
    "                        #- 2j * Ks * np.abs(alpha[j]) ** 2 * alpha[j]\n",
    "                        #- (kappa / 2.0) * alpha[j]\n",
    "                        - 1j * epsilon_array[j]\n",
    "                    )\n",
    "                    + alpha[j - 1])\n",
    "        return alpha\n",
    "    \n",
    "    def get_alpha(self):\n",
    "        '''\n",
    "        Solve equation of motion and get corresponding displacements for displaced frame simulations\n",
    "        '''\n",
    "        self.alpha = alpha_from_epsilon_nonlinear_finite_difference(\n",
    "            epsilon_array =self.cavity_dac_pulse_GHz , delta=0, alpha_init=0 + 0j)\n",
    "        return None\n",
    "    \n",
    "    #####\n",
    "    import matplotlib.pyplot as plt\n",
    "    #####\n",
    "    def plot_pulses(self): \n",
    "        '''\n",
    "        Plots cavity dac pulse, the resultant displacement of cavity and the qubit pulse\n",
    "        '''\n",
    "        fig, axs = plt.subplots(3,1)\n",
    "        axs[0].plot(np.real(self.cavity_dac_pulse_GHz))\n",
    "        axs[0].plot(np.imag(self.cavity_dac_pulse_GHz))\n",
    "        axs[0].set_ylabel('cavity dac pulse (Ghz)', fontsize = 10)\n",
    "        axs[1].plot(np.real(self.alpha))\n",
    "        axs[1].plot(np.imag(self.alpha))\n",
    "        axs[1].set_ylabel('alpha', fontsize = 10)\n",
    "            \n",
    "        axs[2].plot(np.real(self.qubit_dac_pulse_GHz))\n",
    "        axs[2].plot(np.imag(self.qubit_dac_pulse_GHz))\n",
    "        axs[2].set_ylabel('qubit dac pulse (GHz)', fontsize = 10)\n",
    "        plt.xlabel('ns')\n",
    "        \n",
    "        return None"
   ]
  },
  {
   "cell_type": "code",
   "execution_count": 18,
   "id": "c12f96f3",
   "metadata": {},
   "outputs": [],
   "source": [
    "pulse_sim = ecd_pulse_single_mode(param_file = fname)"
   ]
  },
  {
   "cell_type": "code",
   "execution_count": 19,
   "id": "46f780bb",
   "metadata": {},
   "outputs": [
    {
     "name": "stdout",
     "output_type": "stream",
     "text": [
      "Modified method: Cond Disp Circuit\n",
      "Modified conditional displacement called\n",
      "---------------------------\n",
      "Final Displacement: 1.5675275529206785\n",
      "Modified conditional displacement called\n"
     ]
    },
    {
     "name": "stderr",
     "output_type": "stream",
     "text": [
      "C:\\Users\\Eesh Gupta\\anaconda\\lib\\site-packages\\numpy\\core\\_asarray.py:85: ComplexWarning: Casting complex values to real discards the imaginary part\n",
      "  return array(a, dtype, copy=False, order=order)\n"
     ]
    },
    {
     "name": "stdout",
     "output_type": "stream",
     "text": [
      "---------------------------\n",
      "Final Displacement: 1.0130920825625007\n",
      "Modified conditional displacement called\n",
      "---------------------------\n",
      "Final Displacement: 0.6541733672472505\n",
      "Modified conditional displacement called\n",
      "---------------------------\n",
      "Final Displacement: 4.58574908300949e-06\n"
     ]
    }
   ],
   "source": [
    "pulse_sim.get_pulses()"
   ]
  },
  {
   "cell_type": "code",
   "execution_count": 20,
   "id": "f6d26e78",
   "metadata": {},
   "outputs": [
    {
     "data": {
      "image/png": "[encoded data removed]",
      "text/plain": [
       "<Figure size 864x648 with 3 Axes>"
      ]
     },
     "metadata": {
      "needs_background": "light"
     },
     "output_type": "display_data"
    }
   ],
   "source": [
    "pulse_sim.plot_pulses()"
   ]
  },
  {
   "cell_type": "code",
   "execution_count": 49,
   "id": "6591268b",
   "metadata": {},
   "outputs": [
    {
     "data": {
      "text/plain": [
       "numpy.complex128"
      ]
     },
     "execution_count": 49,
     "metadata": {},
     "output_type": "execute_result"
    }
   ],
   "source": [
    "type(qutip_sim.alpha[0])"
   ]
  },
  {
   "cell_type": "code",
   "execution_count": 45,
   "id": "14c6d3fb",
   "metadata": {},
   "outputs": [
    {
     "ename": "ValueError",
     "evalue": "Buffer dtype mismatch, expected 'double' but got 'long'",
     "output_type": "error",
     "traceback": [
      "\u001b[1;31m---------------------------------------------------------------------------\u001b[0m",
      "\u001b[1;31mValueError\u001b[0m                                Traceback (most recent call last)",
      "\u001b[1;32m<ipython-input-45-84907276eced>\u001b[0m in \u001b[0;36m<module>\u001b[1;34m\u001b[0m\n\u001b[0;32m      1\u001b[0m \u001b[0mqutip_sim\u001b[0m  \u001b[1;33m=\u001b[0m \u001b[0mqutip_sim_single_mode\u001b[0m\u001b[1;33m(\u001b[0m\u001b[0mn_q\u001b[0m \u001b[1;33m=\u001b[0m \u001b[1;36m2\u001b[0m\u001b[1;33m,\u001b[0m \u001b[0mn_c\u001b[0m \u001b[1;33m=\u001b[0m \u001b[1;36m10\u001b[0m\u001b[1;33m,\u001b[0m \u001b[0malpha\u001b[0m \u001b[1;33m=\u001b[0m \u001b[0mpulse_sim\u001b[0m\u001b[1;33m.\u001b[0m\u001b[0malpha\u001b[0m\u001b[1;33m,\u001b[0m \u001b[0mqubit_pulse\u001b[0m \u001b[1;33m=\u001b[0m \u001b[0mpulse_sim\u001b[0m\u001b[1;33m.\u001b[0m\u001b[0mqubit_dac_pulse_GHz\u001b[0m\u001b[1;33m)\u001b[0m\u001b[1;33m\u001b[0m\u001b[1;33m\u001b[0m\u001b[0m\n\u001b[1;32m----> 2\u001b[1;33m \u001b[0mqutip_sim\u001b[0m\u001b[1;33m.\u001b[0m\u001b[0mme_solve\u001b[0m\u001b[1;33m(\u001b[0m\u001b[1;33m)\u001b[0m\u001b[1;33m\u001b[0m\u001b[1;33m\u001b[0m\u001b[0m\n\u001b[0m",
      "\u001b[1;32m<ipython-input-44-1a4bba05be5d>\u001b[0m in \u001b[0;36mme_solve\u001b[1;34m(self, initial)\u001b[0m\n\u001b[0;32m    153\u001b[0m             \u001b[0mH\u001b[0m\u001b[1;33m.\u001b[0m\u001b[0mappend\u001b[0m\u001b[1;33m(\u001b[0m\u001b[0mi\u001b[0m\u001b[1;33m)\u001b[0m\u001b[1;33m\u001b[0m\u001b[1;33m\u001b[0m\u001b[0m\n\u001b[0;32m    154\u001b[0m \u001b[1;33m\u001b[0m\u001b[0m\n\u001b[1;32m--> 155\u001b[1;33m         \u001b[0mself\u001b[0m\u001b[1;33m.\u001b[0m\u001b[0moutput\u001b[0m \u001b[1;33m=\u001b[0m \u001b[0mmesolve\u001b[0m\u001b[1;33m(\u001b[0m\u001b[0mH\u001b[0m\u001b[1;33m,\u001b[0m \u001b[0minitial\u001b[0m \u001b[1;33m,\u001b[0m \u001b[0mt_list\u001b[0m\u001b[1;33m,\u001b[0m \u001b[0mself\u001b[0m\u001b[1;33m.\u001b[0m\u001b[0mc_ops\u001b[0m\u001b[1;33m,\u001b[0m \u001b[1;33m[\u001b[0m\u001b[1;33m]\u001b[0m\u001b[1;33m,\u001b[0m \u001b[0moptions\u001b[0m \u001b[1;33m=\u001b[0m\u001b[0mopts\u001b[0m\u001b[1;33m)\u001b[0m\u001b[1;33m\u001b[0m\u001b[1;33m\u001b[0m\u001b[0m\n\u001b[0m\u001b[0;32m    156\u001b[0m         \u001b[0mqsave\u001b[0m\u001b[1;33m(\u001b[0m\u001b[0mself\u001b[0m\u001b[1;33m.\u001b[0m\u001b[0moutput\u001b[0m\u001b[1;33m.\u001b[0m\u001b[0mstates\u001b[0m\u001b[1;33m,\u001b[0m \u001b[0mself\u001b[0m\u001b[1;33m.\u001b[0m\u001b[0mstates_filename\u001b[0m\u001b[1;33m)\u001b[0m\u001b[1;33m\u001b[0m\u001b[1;33m\u001b[0m\u001b[0m\n\u001b[0;32m    157\u001b[0m \u001b[1;33m\u001b[0m\u001b[0m\n",
      "\u001b[1;32m~\\anaconda\\lib\\site-packages\\qutip\\mesolve.py\u001b[0m in \u001b[0;36mmesolve\u001b[1;34m(H, rho0, tlist, c_ops, e_ops, args, options, progress_bar, _safe_mode)\u001b[0m\n\u001b[0;32m    243\u001b[0m \u001b[1;33m\u001b[0m\u001b[0m\n\u001b[0;32m    244\u001b[0m     \u001b[1;32mif\u001b[0m \u001b[1;32mnot\u001b[0m \u001b[0muse_mesolve\u001b[0m\u001b[1;33m:\u001b[0m\u001b[1;33m\u001b[0m\u001b[1;33m\u001b[0m\u001b[0m\n\u001b[1;32m--> 245\u001b[1;33m         return sesolve(H, rho0, tlist, e_ops=e_ops, args=args, options=options,\n\u001b[0m\u001b[0;32m    246\u001b[0m                        progress_bar=progress_bar, _safe_mode=_safe_mode)\n\u001b[0;32m    247\u001b[0m \u001b[1;33m\u001b[0m\u001b[0m\n",
      "\u001b[1;32m~\\anaconda\\lib\\site-packages\\qutip\\sesolve.py\u001b[0m in \u001b[0;36msesolve\u001b[1;34m(H, psi0, tlist, e_ops, args, options, progress_bar, _safe_mode)\u001b[0m\n\u001b[0;32m    149\u001b[0m         \u001b[0mss\u001b[0m \u001b[1;33m=\u001b[0m \u001b[0mH\u001b[0m\u001b[1;33m\u001b[0m\u001b[1;33m\u001b[0m\u001b[0m\n\u001b[0;32m    150\u001b[0m     \u001b[1;32melif\u001b[0m \u001b[0misinstance\u001b[0m\u001b[1;33m(\u001b[0m\u001b[0mH\u001b[0m\u001b[1;33m,\u001b[0m \u001b[1;33m(\u001b[0m\u001b[0mlist\u001b[0m\u001b[1;33m,\u001b[0m \u001b[0mQobj\u001b[0m\u001b[1;33m,\u001b[0m \u001b[0mQobjEvo\u001b[0m\u001b[1;33m)\u001b[0m\u001b[1;33m)\u001b[0m\u001b[1;33m:\u001b[0m\u001b[1;33m\u001b[0m\u001b[1;33m\u001b[0m\u001b[0m\n\u001b[1;32m--> 151\u001b[1;33m         \u001b[0mss\u001b[0m \u001b[1;33m=\u001b[0m \u001b[0m_sesolve_QobjEvo\u001b[0m\u001b[1;33m(\u001b[0m\u001b[0mH\u001b[0m\u001b[1;33m,\u001b[0m \u001b[0mtlist\u001b[0m\u001b[1;33m,\u001b[0m \u001b[0margs\u001b[0m\u001b[1;33m,\u001b[0m \u001b[0moptions\u001b[0m\u001b[1;33m)\u001b[0m\u001b[1;33m\u001b[0m\u001b[1;33m\u001b[0m\u001b[0m\n\u001b[0m\u001b[0;32m    152\u001b[0m     \u001b[1;32melif\u001b[0m \u001b[0mcallable\u001b[0m\u001b[1;33m(\u001b[0m\u001b[0mH\u001b[0m\u001b[1;33m)\u001b[0m\u001b[1;33m:\u001b[0m\u001b[1;33m\u001b[0m\u001b[1;33m\u001b[0m\u001b[0m\n\u001b[0;32m    153\u001b[0m         \u001b[0mss\u001b[0m \u001b[1;33m=\u001b[0m \u001b[0m_sesolve_func_td\u001b[0m\u001b[1;33m(\u001b[0m\u001b[0mH\u001b[0m\u001b[1;33m,\u001b[0m \u001b[0margs\u001b[0m\u001b[1;33m,\u001b[0m \u001b[0moptions\u001b[0m\u001b[1;33m)\u001b[0m\u001b[1;33m\u001b[0m\u001b[1;33m\u001b[0m\u001b[0m\n",
      "\u001b[1;32m~\\anaconda\\lib\\site-packages\\qutip\\sesolve.py\u001b[0m in \u001b[0;36m_sesolve_QobjEvo\u001b[1;34m(H, tlist, args, opt)\u001b[0m\n\u001b[0;32m    181\u001b[0m         \u001b[0mH_td\u001b[0m\u001b[1;33m.\u001b[0m\u001b[0m_check_old_with_state\u001b[0m\u001b[1;33m(\u001b[0m\u001b[1;33m)\u001b[0m\u001b[1;33m\u001b[0m\u001b[1;33m\u001b[0m\u001b[0m\n\u001b[0;32m    182\u001b[0m     \u001b[0mnthread\u001b[0m \u001b[1;33m=\u001b[0m \u001b[0mopt\u001b[0m\u001b[1;33m.\u001b[0m\u001b[0mopenmp_threads\u001b[0m \u001b[1;32mif\u001b[0m \u001b[0mopt\u001b[0m\u001b[1;33m.\u001b[0m\u001b[0muse_openmp\u001b[0m \u001b[1;32melse\u001b[0m \u001b[1;36m0\u001b[0m\u001b[1;33m\u001b[0m\u001b[1;33m\u001b[0m\u001b[0m\n\u001b[1;32m--> 183\u001b[1;33m     \u001b[0mH_td\u001b[0m\u001b[1;33m.\u001b[0m\u001b[0mcompile\u001b[0m\u001b[1;33m(\u001b[0m\u001b[0momp\u001b[0m\u001b[1;33m=\u001b[0m\u001b[0mnthread\u001b[0m\u001b[1;33m)\u001b[0m\u001b[1;33m\u001b[0m\u001b[1;33m\u001b[0m\u001b[0m\n\u001b[0m\u001b[0;32m    184\u001b[0m \u001b[1;33m\u001b[0m\u001b[0m\n\u001b[0;32m    185\u001b[0m     \u001b[0mss\u001b[0m \u001b[1;33m=\u001b[0m \u001b[0mSolverSystem\u001b[0m\u001b[1;33m(\u001b[0m\u001b[1;33m)\u001b[0m\u001b[1;33m\u001b[0m\u001b[1;33m\u001b[0m\u001b[0m\n",
      "\u001b[1;32m~\\anaconda\\lib\\site-packages\\qutip\\qobjevo.py\u001b[0m in \u001b[0;36mcompile\u001b[1;34m(self, code, matched, dense, omp)\u001b[0m\n\u001b[0;32m   1699\u001b[0m                             self.ops, None, self.tlist)\n\u001b[0;32m   1700\u001b[0m                     \u001b[1;32melse\u001b[0m\u001b[1;33m:\u001b[0m\u001b[1;33m\u001b[0m\u001b[1;33m\u001b[0m\u001b[0m\n\u001b[1;32m-> 1701\u001b[1;33m                         self.coeff_get = InterCoeffCte(\n\u001b[0m\u001b[0;32m   1702\u001b[0m                             self.ops, None, self.tlist)\n\u001b[0;32m   1703\u001b[0m                 \u001b[1;32melse\u001b[0m\u001b[1;33m:\u001b[0m\u001b[1;33m\u001b[0m\u001b[1;33m\u001b[0m\u001b[0m\n",
      "\u001b[1;32m~\\anaconda\\lib\\site-packages\\qutip\\cy\\cqobjevo_factor.pyx\u001b[0m in \u001b[0;36mqutip.cy.cqobjevo_factor.InterCoeffCte.__init__\u001b[1;34m()\u001b[0m\n",
      "\u001b[1;31mValueError\u001b[0m: Buffer dtype mismatch, expected 'double' but got 'long'"
     ]
    }
   ],
   "source": [
    "qutip_sim  = qutip_sim_single_mode(n_q = 2, n_c = 10, alpha = pulse_sim.alpha, qubit_pulse = pulse_sim.qubit_dac_pulse_GHz)\n",
    "qutip_sim.me_solve()"
   ]
  },
  {
   "cell_type": "code",
   "execution_count": 43,
   "id": "4d81a386",
   "metadata": {},
   "outputs": [
    {
     "data": {
      "text/plain": [
       "[Quantum object: dims = [[2, 10], [2, 10]], shape = (20, 20), type = oper, isherm = True\n",
       " Qobj data =\n",
       " [[1. 0. 0. 0. 0. 0. 0. 0. 0. 0. 0. 0. 0. 0. 0. 0. 0. 0. 0. 0.]\n",
       "  [0. 1. 0. 0. 0. 0. 0. 0. 0. 0. 0. 0. 0. 0. 0. 0. 0. 0. 0. 0.]\n",
       "  [0. 0. 1. 0. 0. 0. 0. 0. 0. 0. 0. 0. 0. 0. 0. 0. 0. 0. 0. 0.]\n",
       "  [0. 0. 0. 1. 0. 0. 0. 0. 0. 0. 0. 0. 0. 0. 0. 0. 0. 0. 0. 0.]\n",
       "  [0. 0. 0. 0. 1. 0. 0. 0. 0. 0. 0. 0. 0. 0. 0. 0. 0. 0. 0. 0.]\n",
       "  [0. 0. 0. 0. 0. 1. 0. 0. 0. 0. 0. 0. 0. 0. 0. 0. 0. 0. 0. 0.]\n",
       "  [0. 0. 0. 0. 0. 0. 1. 0. 0. 0. 0. 0. 0. 0. 0. 0. 0. 0. 0. 0.]\n",
       "  [0. 0. 0. 0. 0. 0. 0. 1. 0. 0. 0. 0. 0. 0. 0. 0. 0. 0. 0. 0.]\n",
       "  [0. 0. 0. 0. 0. 0. 0. 0. 1. 0. 0. 0. 0. 0. 0. 0. 0. 0. 0. 0.]\n",
       "  [0. 0. 0. 0. 0. 0. 0. 0. 0. 1. 0. 0. 0. 0. 0. 0. 0. 0. 0. 0.]\n",
       "  [0. 0. 0. 0. 0. 0. 0. 0. 0. 0. 1. 0. 0. 0. 0. 0. 0. 0. 0. 0.]\n",
       "  [0. 0. 0. 0. 0. 0. 0. 0. 0. 0. 0. 1. 0. 0. 0. 0. 0. 0. 0. 0.]\n",
       "  [0. 0. 0. 0. 0. 0. 0. 0. 0. 0. 0. 0. 1. 0. 0. 0. 0. 0. 0. 0.]\n",
       "  [0. 0. 0. 0. 0. 0. 0. 0. 0. 0. 0. 0. 0. 1. 0. 0. 0. 0. 0. 0.]\n",
       "  [0. 0. 0. 0. 0. 0. 0. 0. 0. 0. 0. 0. 0. 0. 1. 0. 0. 0. 0. 0.]\n",
       "  [0. 0. 0. 0. 0. 0. 0. 0. 0. 0. 0. 0. 0. 0. 0. 1. 0. 0. 0. 0.]\n",
       "  [0. 0. 0. 0. 0. 0. 0. 0. 0. 0. 0. 0. 0. 0. 0. 0. 1. 0. 0. 0.]\n",
       "  [0. 0. 0. 0. 0. 0. 0. 0. 0. 0. 0. 0. 0. 0. 0. 0. 0. 1. 0. 0.]\n",
       "  [0. 0. 0. 0. 0. 0. 0. 0. 0. 0. 0. 0. 0. 0. 0. 0. 0. 0. 1. 0.]\n",
       "  [0. 0. 0. 0. 0. 0. 0. 0. 0. 0. 0. 0. 0. 0. 0. 0. 0. 0. 0. 1.]],\n",
       " [Quantum object: dims = [[2, 10], [2, 10]], shape = (20, 20), type = oper, isherm = False\n",
       "  Qobj data =\n",
       "  [[0. 0. 0. 0. 0. 0. 0. 0. 0. 0. 1. 0. 0. 0. 0. 0. 0. 0. 0. 0.]\n",
       "   [0. 0. 0. 0. 0. 0. 0. 0. 0. 0. 0. 1. 0. 0. 0. 0. 0. 0. 0. 0.]\n",
       "   [0. 0. 0. 0. 0. 0. 0. 0. 0. 0. 0. 0. 1. 0. 0. 0. 0. 0. 0. 0.]\n",
       "   [0. 0. 0. 0. 0. 0. 0. 0. 0. 0. 0. 0. 0. 1. 0. 0. 0. 0. 0. 0.]\n",
       "   [0. 0. 0. 0. 0. 0. 0. 0. 0. 0. 0. 0. 0. 0. 1. 0. 0. 0. 0. 0.]\n",
       "   [0. 0. 0. 0. 0. 0. 0. 0. 0. 0. 0. 0. 0. 0. 0. 1. 0. 0. 0. 0.]\n",
       "   [0. 0. 0. 0. 0. 0. 0. 0. 0. 0. 0. 0. 0. 0. 0. 0. 1. 0. 0. 0.]\n",
       "   [0. 0. 0. 0. 0. 0. 0. 0. 0. 0. 0. 0. 0. 0. 0. 0. 0. 1. 0. 0.]\n",
       "   [0. 0. 0. 0. 0. 0. 0. 0. 0. 0. 0. 0. 0. 0. 0. 0. 0. 0. 1. 0.]\n",
       "   [0. 0. 0. 0. 0. 0. 0. 0. 0. 0. 0. 0. 0. 0. 0. 0. 0. 0. 0. 1.]\n",
       "   [0. 0. 0. 0. 0. 0. 0. 0. 0. 0. 0. 0. 0. 0. 0. 0. 0. 0. 0. 0.]\n",
       "   [0. 0. 0. 0. 0. 0. 0. 0. 0. 0. 0. 0. 0. 0. 0. 0. 0. 0. 0. 0.]\n",
       "   [0. 0. 0. 0. 0. 0. 0. 0. 0. 0. 0. 0. 0. 0. 0. 0. 0. 0. 0. 0.]\n",
       "   [0. 0. 0. 0. 0. 0. 0. 0. 0. 0. 0. 0. 0. 0. 0. 0. 0. 0. 0. 0.]\n",
       "   [0. 0. 0. 0. 0. 0. 0. 0. 0. 0. 0. 0. 0. 0. 0. 0. 0. 0. 0. 0.]\n",
       "   [0. 0. 0. 0. 0. 0. 0. 0. 0. 0. 0. 0. 0. 0. 0. 0. 0. 0. 0. 0.]\n",
       "   [0. 0. 0. 0. 0. 0. 0. 0. 0. 0. 0. 0. 0. 0. 0. 0. 0. 0. 0. 0.]\n",
       "   [0. 0. 0. 0. 0. 0. 0. 0. 0. 0. 0. 0. 0. 0. 0. 0. 0. 0. 0. 0.]\n",
       "   [0. 0. 0. 0. 0. 0. 0. 0. 0. 0. 0. 0. 0. 0. 0. 0. 0. 0. 0. 0.]\n",
       "   [0. 0. 0. 0. 0. 0. 0. 0. 0. 0. 0. 0. 0. 0. 0. 0. 0. 0. 0. 0.]],\n",
       "  array([ 0.        -0.j, -0.00392732-0.j, -0.00882826-0.j, ...,\n",
       "          0.        -0.j,  0.        -0.j,  0.        -0.j])],\n",
       " [Quantum object: dims = [[2, 10], [2, 10]], shape = (20, 20), type = oper, isherm = False\n",
       "  Qobj data =\n",
       "  [[0. 0. 0. 0. 0. 0. 0. 0. 0. 0. 0. 0. 0. 0. 0. 0. 0. 0. 0. 0.]\n",
       "   [0. 0. 0. 0. 0. 0. 0. 0. 0. 0. 0. 0. 0. 0. 0. 0. 0. 0. 0. 0.]\n",
       "   [0. 0. 0. 0. 0. 0. 0. 0. 0. 0. 0. 0. 0. 0. 0. 0. 0. 0. 0. 0.]\n",
       "   [0. 0. 0. 0. 0. 0. 0. 0. 0. 0. 0. 0. 0. 0. 0. 0. 0. 0. 0. 0.]\n",
       "   [0. 0. 0. 0. 0. 0. 0. 0. 0. 0. 0. 0. 0. 0. 0. 0. 0. 0. 0. 0.]\n",
       "   [0. 0. 0. 0. 0. 0. 0. 0. 0. 0. 0. 0. 0. 0. 0. 0. 0. 0. 0. 0.]\n",
       "   [0. 0. 0. 0. 0. 0. 0. 0. 0. 0. 0. 0. 0. 0. 0. 0. 0. 0. 0. 0.]\n",
       "   [0. 0. 0. 0. 0. 0. 0. 0. 0. 0. 0. 0. 0. 0. 0. 0. 0. 0. 0. 0.]\n",
       "   [0. 0. 0. 0. 0. 0. 0. 0. 0. 0. 0. 0. 0. 0. 0. 0. 0. 0. 0. 0.]\n",
       "   [0. 0. 0. 0. 0. 0. 0. 0. 0. 0. 0. 0. 0. 0. 0. 0. 0. 0. 0. 0.]\n",
       "   [1. 0. 0. 0. 0. 0. 0. 0. 0. 0. 0. 0. 0. 0. 0. 0. 0. 0. 0. 0.]\n",
       "   [0. 1. 0. 0. 0. 0. 0. 0. 0. 0. 0. 0. 0. 0. 0. 0. 0. 0. 0. 0.]\n",
       "   [0. 0. 1. 0. 0. 0. 0. 0. 0. 0. 0. 0. 0. 0. 0. 0. 0. 0. 0. 0.]\n",
       "   [0. 0. 0. 1. 0. 0. 0. 0. 0. 0. 0. 0. 0. 0. 0. 0. 0. 0. 0. 0.]\n",
       "   [0. 0. 0. 0. 1. 0. 0. 0. 0. 0. 0. 0. 0. 0. 0. 0. 0. 0. 0. 0.]\n",
       "   [0. 0. 0. 0. 0. 1. 0. 0. 0. 0. 0. 0. 0. 0. 0. 0. 0. 0. 0. 0.]\n",
       "   [0. 0. 0. 0. 0. 0. 1. 0. 0. 0. 0. 0. 0. 0. 0. 0. 0. 0. 0. 0.]\n",
       "   [0. 0. 0. 0. 0. 0. 0. 1. 0. 0. 0. 0. 0. 0. 0. 0. 0. 0. 0. 0.]\n",
       "   [0. 0. 0. 0. 0. 0. 0. 0. 1. 0. 0. 0. 0. 0. 0. 0. 0. 0. 0. 0.]\n",
       "   [0. 0. 0. 0. 0. 0. 0. 0. 0. 1. 0. 0. 0. 0. 0. 0. 0. 0. 0. 0.]],\n",
       "  array([ 0.        +0.j, -0.00392732+0.j, -0.00882826+0.j, ...,\n",
       "          0.        +0.j,  0.        +0.j,  0.        +0.j])],\n",
       " [Quantum object: dims = [[2, 10], [2, 10]], shape = (20, 20), type = oper, isherm = False\n",
       "  Qobj data =\n",
       "  [[ 0.         -0.00010367  0.          0.          0.          0.\n",
       "     0.          0.          0.          0.          0.          0.\n",
       "     0.          0.          0.          0.          0.          0.\n",
       "     0.          0.        ]\n",
       "   [ 0.          0.         -0.00014662  0.          0.          0.\n",
       "     0.          0.          0.          0.          0.          0.\n",
       "     0.          0.          0.          0.          0.          0.\n",
       "     0.          0.        ]\n",
       "   [ 0.          0.          0.         -0.00017957  0.          0.\n",
       "     0.          0.          0.          0.          0.          0.\n",
       "     0.          0.          0.          0.          0.          0.\n",
       "     0.          0.        ]\n",
       "   [ 0.          0.          0.          0.         -0.00020735  0.\n",
       "     0.          0.          0.          0.          0.          0.\n",
       "     0.          0.          0.          0.          0.          0.\n",
       "     0.          0.        ]\n",
       "   [ 0.          0.          0.          0.          0.         -0.00023182\n",
       "     0.          0.          0.          0.          0.          0.\n",
       "     0.          0.          0.          0.          0.          0.\n",
       "     0.          0.        ]\n",
       "   [ 0.          0.          0.          0.          0.          0.\n",
       "    -0.00025394  0.          0.          0.          0.          0.\n",
       "     0.          0.          0.          0.          0.          0.\n",
       "     0.          0.        ]\n",
       "   [ 0.          0.          0.          0.          0.          0.\n",
       "     0.         -0.00027429  0.          0.          0.          0.\n",
       "     0.          0.          0.          0.          0.          0.\n",
       "     0.          0.        ]\n",
       "   [ 0.          0.          0.          0.          0.          0.\n",
       "     0.          0.         -0.00029323  0.          0.          0.\n",
       "     0.          0.          0.          0.          0.          0.\n",
       "     0.          0.        ]\n",
       "   [ 0.          0.          0.          0.          0.          0.\n",
       "     0.          0.          0.         -0.00031102  0.          0.\n",
       "     0.          0.          0.          0.          0.          0.\n",
       "     0.          0.        ]\n",
       "   [ 0.          0.          0.          0.          0.          0.\n",
       "     0.          0.          0.          0.          0.          0.\n",
       "     0.          0.          0.          0.          0.          0.\n",
       "     0.          0.        ]\n",
       "   [ 0.          0.          0.          0.          0.          0.\n",
       "     0.          0.          0.          0.          0.          0.00010367\n",
       "     0.          0.          0.          0.          0.          0.\n",
       "     0.          0.        ]\n",
       "   [ 0.          0.          0.          0.          0.          0.\n",
       "     0.          0.          0.          0.          0.          0.\n",
       "     0.00014662  0.          0.          0.          0.          0.\n",
       "     0.          0.        ]\n",
       "   [ 0.          0.          0.          0.          0.          0.\n",
       "     0.          0.          0.          0.          0.          0.\n",
       "     0.          0.00017957  0.          0.          0.          0.\n",
       "     0.          0.        ]\n",
       "   [ 0.          0.          0.          0.          0.          0.\n",
       "     0.          0.          0.          0.          0.          0.\n",
       "     0.          0.          0.00020735  0.          0.          0.\n",
       "     0.          0.        ]\n",
       "   [ 0.          0.          0.          0.          0.          0.\n",
       "     0.          0.          0.          0.          0.          0.\n",
       "     0.          0.          0.          0.00023182  0.          0.\n",
       "     0.          0.        ]\n",
       "   [ 0.          0.          0.          0.          0.          0.\n",
       "     0.          0.          0.          0.          0.          0.\n",
       "     0.          0.          0.          0.          0.00025394  0.\n",
       "     0.          0.        ]\n",
       "   [ 0.          0.          0.          0.          0.          0.\n",
       "     0.          0.          0.          0.          0.          0.\n",
       "     0.          0.          0.          0.          0.          0.00027429\n",
       "     0.          0.        ]\n",
       "   [ 0.          0.          0.          0.          0.          0.\n",
       "     0.          0.          0.          0.          0.          0.\n",
       "     0.          0.          0.          0.          0.          0.\n",
       "     0.00029323  0.        ]\n",
       "   [ 0.          0.          0.          0.          0.          0.\n",
       "     0.          0.          0.          0.          0.          0.\n",
       "     0.          0.          0.          0.          0.          0.\n",
       "     0.          0.00031102]\n",
       "   [ 0.          0.          0.          0.          0.          0.\n",
       "     0.          0.          0.          0.          0.          0.\n",
       "     0.          0.          0.          0.          0.          0.\n",
       "     0.          0.        ]],\n",
       "  array([0.        -0.j        , 0.        -0.j        ,\n",
       "         0.        -0.j        , ..., 0.00569574-0.00245415j,\n",
       "         0.00569574-0.00245415j, 0.00569574-0.00245415j])],\n",
       " [Quantum object: dims = [[2, 10], [2, 10]], shape = (20, 20), type = oper, isherm = False\n",
       "  Qobj data =\n",
       "  [[ 0.          0.          0.          0.          0.          0.\n",
       "     0.          0.          0.          0.          0.          0.\n",
       "     0.          0.          0.          0.          0.          0.\n",
       "     0.          0.        ]\n",
       "   [-0.00010367  0.          0.          0.          0.          0.\n",
       "     0.          0.          0.          0.          0.          0.\n",
       "     0.          0.          0.          0.          0.          0.\n",
       "     0.          0.        ]\n",
       "   [ 0.         -0.00014662  0.          0.          0.          0.\n",
       "     0.          0.          0.          0.          0.          0.\n",
       "     0.          0.          0.          0.          0.          0.\n",
       "     0.          0.        ]\n",
       "   [ 0.          0.         -0.00017957  0.          0.          0.\n",
       "     0.          0.          0.          0.          0.          0.\n",
       "     0.          0.          0.          0.          0.          0.\n",
       "     0.          0.        ]\n",
       "   [ 0.          0.          0.         -0.00020735  0.          0.\n",
       "     0.          0.          0.          0.          0.          0.\n",
       "     0.          0.          0.          0.          0.          0.\n",
       "     0.          0.        ]\n",
       "   [ 0.          0.          0.          0.         -0.00023182  0.\n",
       "     0.          0.          0.          0.          0.          0.\n",
       "     0.          0.          0.          0.          0.          0.\n",
       "     0.          0.        ]\n",
       "   [ 0.          0.          0.          0.          0.         -0.00025394\n",
       "     0.          0.          0.          0.          0.          0.\n",
       "     0.          0.          0.          0.          0.          0.\n",
       "     0.          0.        ]\n",
       "   [ 0.          0.          0.          0.          0.          0.\n",
       "    -0.00027429  0.          0.          0.          0.          0.\n",
       "     0.          0.          0.          0.          0.          0.\n",
       "     0.          0.        ]\n",
       "   [ 0.          0.          0.          0.          0.          0.\n",
       "     0.         -0.00029323  0.          0.          0.          0.\n",
       "     0.          0.          0.          0.          0.          0.\n",
       "     0.          0.        ]\n",
       "   [ 0.          0.          0.          0.          0.          0.\n",
       "     0.          0.         -0.00031102  0.          0.          0.\n",
       "     0.          0.          0.          0.          0.          0.\n",
       "     0.          0.        ]\n",
       "   [ 0.          0.          0.          0.          0.          0.\n",
       "     0.          0.          0.          0.          0.          0.\n",
       "     0.          0.          0.          0.          0.          0.\n",
       "     0.          0.        ]\n",
       "   [ 0.          0.          0.          0.          0.          0.\n",
       "     0.          0.          0.          0.          0.00010367  0.\n",
       "     0.          0.          0.          0.          0.          0.\n",
       "     0.          0.        ]\n",
       "   [ 0.          0.          0.          0.          0.          0.\n",
       "     0.          0.          0.          0.          0.          0.00014662\n",
       "     0.          0.          0.          0.          0.          0.\n",
       "     0.          0.        ]\n",
       "   [ 0.          0.          0.          0.          0.          0.\n",
       "     0.          0.          0.          0.          0.          0.\n",
       "     0.00017957  0.          0.          0.          0.          0.\n",
       "     0.          0.        ]\n",
       "   [ 0.          0.          0.          0.          0.          0.\n",
       "     0.          0.          0.          0.          0.          0.\n",
       "     0.          0.00020735  0.          0.          0.          0.\n",
       "     0.          0.        ]\n",
       "   [ 0.          0.          0.          0.          0.          0.\n",
       "     0.          0.          0.          0.          0.          0.\n",
       "     0.          0.          0.00023182  0.          0.          0.\n",
       "     0.          0.        ]\n",
       "   [ 0.          0.          0.          0.          0.          0.\n",
       "     0.          0.          0.          0.          0.          0.\n",
       "     0.          0.          0.          0.00025394  0.          0.\n",
       "     0.          0.        ]\n",
       "   [ 0.          0.          0.          0.          0.          0.\n",
       "     0.          0.          0.          0.          0.          0.\n",
       "     0.          0.          0.          0.          0.00027429  0.\n",
       "     0.          0.        ]\n",
       "   [ 0.          0.          0.          0.          0.          0.\n",
       "     0.          0.          0.          0.          0.          0.\n",
       "     0.          0.          0.          0.          0.          0.00029323\n",
       "     0.          0.        ]\n",
       "   [ 0.          0.          0.          0.          0.          0.\n",
       "     0.          0.          0.          0.          0.          0.\n",
       "     0.          0.          0.          0.          0.          0.\n",
       "     0.00031102  0.        ]],\n",
       "  array([0.        +0.j        , 0.        +0.j        ,\n",
       "         0.        +0.j        , ..., 0.00569574+0.00245415j,\n",
       "         0.00569574+0.00245415j, 0.00569574+0.00245415j])]]"
      ]
     },
     "execution_count": 43,
     "metadata": {},
     "output_type": "execute_result"
    }
   ],
   "source": [
    "qutip_sim.H"
   ]
  },
  {
   "cell_type": "code",
   "execution_count": 30,
   "id": "932df876",
   "metadata": {},
   "outputs": [
    {
     "data": {
      "text/plain": [
       "1216"
      ]
     },
     "execution_count": 30,
     "metadata": {},
     "output_type": "execute_result"
    }
   ],
   "source": [
    "qutip_sim.times"
   ]
  },
  {
   "cell_type": "code",
   "execution_count": 36,
   "id": "671f2118",
   "metadata": {},
   "outputs": [
    {
     "ename": "AttributeError",
     "evalue": "'qutip_sim_single_mode' object has no attribute 'H'",
     "output_type": "error",
     "traceback": [
      "\u001b[1;31m---------------------------------------------------------------------------\u001b[0m",
      "\u001b[1;31mAttributeError\u001b[0m                            Traceback (most recent call last)",
      "\u001b[1;32m<ipython-input-36-5f5a2a9da1b4>\u001b[0m in \u001b[0;36m<module>\u001b[1;34m\u001b[0m\n\u001b[1;32m----> 1\u001b[1;33m \u001b[0mqutip_sim\u001b[0m\u001b[1;33m.\u001b[0m\u001b[0mH\u001b[0m\u001b[1;33m\u001b[0m\u001b[1;33m\u001b[0m\u001b[0m\n\u001b[0m",
      "\u001b[1;31mAttributeError\u001b[0m: 'qutip_sim_single_mode' object has no attribute 'H'"
     ]
    }
   ],
   "source": [
    "qutip_sim.H"
   ]
  },
  {
   "cell_type": "code",
   "execution_count": 21,
   "id": "2826bc29",
   "metadata": {},
   "outputs": [],
   "source": [
    "from qutip import *"
   ]
  },
  {
   "cell_type": "code",
   "execution_count": 106,
   "id": "36f26bf8",
   "metadata": {},
   "outputs": [],
   "source": [
    "class qutip_sim_single_mode:\n",
    "    \n",
    "    def __init__(self, n_q, n_c, chi = None,\n",
    "                 alpha = [], qubit_pulse = [],\n",
    "                 sim_params = None, states_filename = 'states store'):\n",
    "        '''\n",
    "        n_q, n_c = # of levels in qubit, cavity\n",
    "        \n",
    "        sim_params = sim_params = {'bare_qubit_mode_coupling':0,\n",
    "        'Stark Shift': 0,  'transmon_relax': 0,'transmon_dephasing': 0,\n",
    "        'cavity_relax': 0,'cavity_dephasing': 0}  # 0 means false, 1 means true or activates    \n",
    "        '''\n",
    "        self.n_q = n_q\n",
    "        self.n_c = n_c\n",
    "        \n",
    "        self.chi = -33*2*np.pi*(10**(-6)) # Alec's params\n",
    "        \n",
    "        ##get pulses\n",
    "        self.alpha = alpha\n",
    "        self.qubit_pulse = qubit_pulse\n",
    "        \n",
    "        self.sim_params = sim_params\n",
    "        if sim_params == None: \n",
    "            sim_params =  {'bare_qubit_mode_coupling':0,\n",
    "        'Stark Shift': 0,  'transmon_relax': 0,'transmon_dephasing': 0,\n",
    "        'cavity_relax': 0,'cavity_dephasing': 0}\n",
    "        self.get_basic_ops()\n",
    "        \n",
    "            \n",
    "        #get operators\n",
    "        self.H0 = tensor(self.identity_q, self.identity_c) # time independent part\n",
    "        ## drive terms (ecd pulses)\n",
    "        self.Hd = [ #qubit terms\n",
    "                 [tensor(self.a_q, self.identity_c), np.conjugate(self.qubit_pulse)], \n",
    "                 [tensor(self.adag_q, self.identity_c), self.qubit_pulse],\n",
    "                 # ecd pulses\n",
    "                 [(self.chi/2)*tensor(sigmaz(), self.a_c), np.conjugate(self.alpha)],\n",
    "                 [(self.chi/2)*tensor(sigmaz(), self.adag_c), self.alpha],\n",
    "                 ] \n",
    "        self.c_ops = []\n",
    "        \n",
    "        self.states_filename = states_filename\n",
    "        \n",
    "    \n",
    "    def get_basic_ops(self): \n",
    "        '''\n",
    "        Creates identity, creation/annihilation for qubit/cavity\n",
    "        '''\n",
    "        self.identity_q = qeye(self.n_q)\n",
    "        self.identity_c = qeye(self.n_c)\n",
    "\n",
    "        self.a_q = destroy(self.n_q)\n",
    "        self.a_c = destroy(self.n_c)\n",
    "\n",
    "        self.adag_q = create(self.n_q)\n",
    "        self.adag_c = create(self.n_c)\n",
    "\n",
    "        num_q = num(self.n_q)\n",
    "        num_c =  num(self.n_c)\n",
    "        \n",
    "        return None\n",
    "    \n",
    "    def square_list(self, listy):\n",
    "        '''\n",
    "        Input: List of numbers [a,b,c,...]\n",
    "        Output: [a^2, b^2, ...] (norm squared for complex numbers)\n",
    "        '''\n",
    "        return np.real( [np.real(i)**2 + np.imag(i)**2 for i in listy])\n",
    "    \n",
    "    def add_bare_qubit_mode_coupling(self):\n",
    "        '''\n",
    "        Add the basic dispersive shift term to Ham\n",
    "        '''\n",
    "        self.H0 +=  (self.chi/2)*tensor(sigmaz(), self.num_c)\n",
    "        return None\n",
    "    \n",
    "    def add_stark_shift(self):\n",
    "        '''\n",
    "        Add the basic dispersive shift term to Ham\n",
    "        '''\n",
    "        term = [(self.chi/2)*tensor(sigmaz(), self.identity_c), self.square_list(self.alpha)]\n",
    "        self.Hd.append(term)\n",
    "        return None\n",
    "    \n",
    "    def add_qubit_relaxation(self, T1 = 30e+3):\n",
    "        '''\n",
    "        qubit relaxation (T1 in nanoseconds)\n",
    "        '''\n",
    "        gamma_relax = 1/T1\n",
    "        term = np.sqrt(gamma_relax/2)*tensor(self.a_q, self.identity_c)\n",
    "        self.c_ops.append(term)\n",
    "        return None\n",
    "    \n",
    "    def add_qubit_dephasing(self, T1 = 30e+3, Techo = 65e+3):\n",
    "        '''\n",
    "        qubit relaxation (T1, T2 in nanoseconds)\n",
    "        '''\n",
    "        gamma_relax = 1/T1\n",
    "        gamma_echo = 1/Techo\n",
    "        gamma_phi = gamma_echo - (gamma_relax/2)\n",
    "        \n",
    "        term = np.sqrt(gamma_phi)*tensor(self.num_q, self.identity_c)\n",
    "        self.c_ops.append(term)\n",
    "        return None\n",
    "    \n",
    "    def add_cavity_relaxation(self, T1 = 10e+6):\n",
    "        '''\n",
    "        qubit relaxation (T1 in nanoseconds)\n",
    "        \n",
    "        in displaced frame, the a_c -> a_c + alpha but the alpha part\n",
    "        can be taken care of by using classical EOM when designing pulses\n",
    "        '''\n",
    "        gamma_relax = 1/T1\n",
    "        term = np.sqrt(gamma_relax/2)*tensor(self.identity_q, self.a_c)\n",
    "        self.c_ops.append(term)\n",
    "        return None\n",
    "    \n",
    "    def add_cavity_dephasing(self, T1 = 10e+6, Techo = 10e+6):\n",
    "        '''\n",
    "        qubit dephasing (T1, Techo in nanoseconds)\n",
    "        '''\n",
    "        gamma_relax = 1/T1\n",
    "        gamma_echo = 1/Techo\n",
    "        gamma_phi = gamma_echo - (gamma_relax/2)\n",
    "        \n",
    "        alpha_CD = np.abs(max(self.alpha))\n",
    "        \n",
    "        #approximating by using max value in alpha list (don't know how to input time dependent amplitudes on \n",
    "        # collapse operators)\n",
    "        disp_frame_adag = self.adag_c + (np.abs(max(np.conjugate(self.alpha)))*self.identity_c)\n",
    "        disp_frame_a = self.a_c + (np.abs(max(self.alpha))*self.identity_c)\n",
    "        \n",
    "        term = np.sqrt(gamma_phi)*tensor(self.identity_q, disp_frame_adag*disp_frame_a)\n",
    "        self.c_ops.append(term)\n",
    "        return None\n",
    "    \n",
    "    def me_solve(self, initial = None): \n",
    "        '''\n",
    "        Solve the master equation \n",
    "        '''\n",
    "        T = len(self.alpha) # total time length in nanoseconds\n",
    "        t_list = np.linspace(0, T, T)\n",
    "\n",
    "        if initial == None: \n",
    "            initial = tensor(basis(self.n_q,0), basis(self.n_c,0))\n",
    "            \n",
    "        opts = Options(store_states=True, store_final_state=True, nsteps = 5000, max_step = 10)\n",
    "        ## since smallest pulse is a pi pulse which is 40 ns long\n",
    "        \n",
    "        #Hamiltonian\n",
    "        self.H = [self.H0]\n",
    "        for i in self.Hd:\n",
    "             self.H.append(i)\n",
    "            \n",
    "        self.output = mesolve(self.H, initial , t_list, self.c_ops, [], options =opts)        \n",
    "        qsave(self.output.states, self.states_filename)\n",
    "        \n",
    "        return None\n",
    "    \n",
    "    def dot(state1, state2):\n",
    "        '''\n",
    "        dotting both states\n",
    "        '''\n",
    "        fid = state1.overlap(state2)\n",
    "        return fid*np.conjugate(fid)\n",
    "\n",
    "    \n",
    "    def get_fidelity(self, target): \n",
    "        '''\n",
    "        dot final state after evolution with target\n",
    "        '''\n",
    "        return dot(self.output.states[-1], target)\n",
    "    \n",
    "    \n",
    "    def plot_populations_single_mode(self, figname = 'figure', title = None):\n",
    "        '''\n",
    "        Given output of mesolve, outputs populations with qubit as ground\n",
    "        '''\n",
    "        \n",
    "        output_states = qload(self.states_filename)\n",
    "        fig, axs = plt.subplots(2,1, figsize=(10,8))\n",
    "        probs = []\n",
    "        times = [k/1000 for k in range(len(output_states))]\n",
    "        max_num_levels = 10 # to be shown on the plot\n",
    "\n",
    "        #qubit grounded\n",
    "        for i in range(max_num_levels):\n",
    "            target = tensor(basis(n_q,0), basis(n_c, i))\n",
    "            pops = []\n",
    "            for k in range(len(output_states)): \n",
    "                z = target.overlap(output_states[k])\n",
    "                pops.append(z.real**2 + z.imag**2)\n",
    "            axs[0].plot(times, pops, label = '|g,'+str(i)+'>')\n",
    "\n",
    "        #qubit excited\n",
    "        for i in range(max_num_levels):\n",
    "            target = tensor(basis(n_q,1), basis(n_c, i))\n",
    "            pops = []\n",
    "            for k in range(len(output_states)): \n",
    "                z = target.overlap(output_states[k])\n",
    "                pops.append(z.real**2 + z.imag**2)\n",
    "            axs[1].plot(times, pops, linestyle = '--',  label = '|e,'+str(i) +'>')\n",
    "\n",
    "        axs[1].set_xlabel(r\"Time ($\\mu$s)\", fontsize = 18)\n",
    "        axs[1].set_ylabel(\"Populations\", fontsize = 18)\n",
    "        axs[0].set_ylabel(\"Populations\", fontsize = 18)\n",
    "        axs[0].tick_params(axis = 'both', which = 'major', labelsize = '15')\n",
    "        axs[0].tick_params(axis = 'both', which = 'minor', labelsize = '15')\n",
    "        axs[1].tick_params(axis = 'both', which = 'major', labelsize = '15')\n",
    "        axs[1].tick_params(axis = 'both', which = 'minor', labelsize = '15')\n",
    "    #     axs[0].set_xticks(fontsize= 10)\n",
    "    #     axs[1].set_yticks(fontsize= 10)\n",
    "    #     axs[0].set_yticks(fontsize= 10)\n",
    "    #     plt.legend(prop={'size': 20},  fontsize = 8, loc='upper center', bbox_to_anchor=(0.5, 1.05),\n",
    "    #           ncol=3, fancybox=True, shadow=True)   \n",
    "        axs[0].legend(loc='center left', bbox_to_anchor=(1, 0.5), fontsize = '15')\n",
    "        axs[1].legend(loc='center left', bbox_to_anchor=(1, 0.5), fontsize = '15')\n",
    "        #plt.legend(fontsize = '15')\n",
    "        #fig.suptitle(title, fontsize = 15)\n",
    "        plt.tight_layout()\n",
    "        fig.savefig(figname, dpi = 1000)\n",
    "        return None\n"
   ]
  },
  {
   "cell_type": "code",
   "execution_count": 107,
   "id": "f79d2851",
   "metadata": {},
   "outputs": [],
   "source": [
    "qutip_sim  = qutip_sim_single_mode(n_q = 2, n_c = 10, alpha = pulse_sim.alpha, qubit_pulse = pulse_sim.qubit_dac_pulse_GHz)\n",
    "qutip_sim.me_solve()"
   ]
  },
  {
   "cell_type": "code",
   "execution_count": 108,
   "id": "35750d5a",
   "metadata": {},
   "outputs": [
    {
     "name": "stdout",
     "output_type": "stream",
     "text": [
      "Loaded list object.\n"
     ]
    },
    {
     "data": {
      "image/png": "[encoded data removed]",
      "text/plain": [
       "<Figure size 720x576 with 2 Axes>"
      ]
     },
     "metadata": {
      "needs_background": "light"
     },
     "output_type": "display_data"
    }
   ],
   "source": [
    "qutip_sim.plot_populations_single_mode()"
   ]
  },
  {
   "cell_type": "code",
   "execution_count": 70,
   "id": "6d21e274",
   "metadata": {
    "scrolled": false
   },
   "outputs": [
    {
     "data": {
      "text/plain": [
       "[Quantum object: dims = [[2, 10], [2, 10]], shape = (20, 20), type = oper, isherm = True\n",
       " Qobj data =\n",
       " [[1. 0. 0. 0. 0. 0. 0. 0. 0. 0. 0. 0. 0. 0. 0. 0. 0. 0. 0. 0.]\n",
       "  [0. 1. 0. 0. 0. 0. 0. 0. 0. 0. 0. 0. 0. 0. 0. 0. 0. 0. 0. 0.]\n",
       "  [0. 0. 1. 0. 0. 0. 0. 0. 0. 0. 0. 0. 0. 0. 0. 0. 0. 0. 0. 0.]\n",
       "  [0. 0. 0. 1. 0. 0. 0. 0. 0. 0. 0. 0. 0. 0. 0. 0. 0. 0. 0. 0.]\n",
       "  [0. 0. 0. 0. 1. 0. 0. 0. 0. 0. 0. 0. 0. 0. 0. 0. 0. 0. 0. 0.]\n",
       "  [0. 0. 0. 0. 0. 1. 0. 0. 0. 0. 0. 0. 0. 0. 0. 0. 0. 0. 0. 0.]\n",
       "  [0. 0. 0. 0. 0. 0. 1. 0. 0. 0. 0. 0. 0. 0. 0. 0. 0. 0. 0. 0.]\n",
       "  [0. 0. 0. 0. 0. 0. 0. 1. 0. 0. 0. 0. 0. 0. 0. 0. 0. 0. 0. 0.]\n",
       "  [0. 0. 0. 0. 0. 0. 0. 0. 1. 0. 0. 0. 0. 0. 0. 0. 0. 0. 0. 0.]\n",
       "  [0. 0. 0. 0. 0. 0. 0. 0. 0. 1. 0. 0. 0. 0. 0. 0. 0. 0. 0. 0.]\n",
       "  [0. 0. 0. 0. 0. 0. 0. 0. 0. 0. 1. 0. 0. 0. 0. 0. 0. 0. 0. 0.]\n",
       "  [0. 0. 0. 0. 0. 0. 0. 0. 0. 0. 0. 1. 0. 0. 0. 0. 0. 0. 0. 0.]\n",
       "  [0. 0. 0. 0. 0. 0. 0. 0. 0. 0. 0. 0. 1. 0. 0. 0. 0. 0. 0. 0.]\n",
       "  [0. 0. 0. 0. 0. 0. 0. 0. 0. 0. 0. 0. 0. 1. 0. 0. 0. 0. 0. 0.]\n",
       "  [0. 0. 0. 0. 0. 0. 0. 0. 0. 0. 0. 0. 0. 0. 1. 0. 0. 0. 0. 0.]\n",
       "  [0. 0. 0. 0. 0. 0. 0. 0. 0. 0. 0. 0. 0. 0. 0. 1. 0. 0. 0. 0.]\n",
       "  [0. 0. 0. 0. 0. 0. 0. 0. 0. 0. 0. 0. 0. 0. 0. 0. 1. 0. 0. 0.]\n",
       "  [0. 0. 0. 0. 0. 0. 0. 0. 0. 0. 0. 0. 0. 0. 0. 0. 0. 1. 0. 0.]\n",
       "  [0. 0. 0. 0. 0. 0. 0. 0. 0. 0. 0. 0. 0. 0. 0. 0. 0. 0. 1. 0.]\n",
       "  [0. 0. 0. 0. 0. 0. 0. 0. 0. 0. 0. 0. 0. 0. 0. 0. 0. 0. 0. 1.]],\n",
       " [Quantum object: dims = [[2, 10], [2, 10]], shape = (20, 20), type = oper, isherm = False\n",
       "  Qobj data =\n",
       "  [[0. 0. 0. 0. 0. 0. 0. 0. 0. 0. 1. 0. 0. 0. 0. 0. 0. 0. 0. 0.]\n",
       "   [0. 0. 0. 0. 0. 0. 0. 0. 0. 0. 0. 1. 0. 0. 0. 0. 0. 0. 0. 0.]\n",
       "   [0. 0. 0. 0. 0. 0. 0. 0. 0. 0. 0. 0. 1. 0. 0. 0. 0. 0. 0. 0.]\n",
       "   [0. 0. 0. 0. 0. 0. 0. 0. 0. 0. 0. 0. 0. 1. 0. 0. 0. 0. 0. 0.]\n",
       "   [0. 0. 0. 0. 0. 0. 0. 0. 0. 0. 0. 0. 0. 0. 1. 0. 0. 0. 0. 0.]\n",
       "   [0. 0. 0. 0. 0. 0. 0. 0. 0. 0. 0. 0. 0. 0. 0. 1. 0. 0. 0. 0.]\n",
       "   [0. 0. 0. 0. 0. 0. 0. 0. 0. 0. 0. 0. 0. 0. 0. 0. 1. 0. 0. 0.]\n",
       "   [0. 0. 0. 0. 0. 0. 0. 0. 0. 0. 0. 0. 0. 0. 0. 0. 0. 1. 0. 0.]\n",
       "   [0. 0. 0. 0. 0. 0. 0. 0. 0. 0. 0. 0. 0. 0. 0. 0. 0. 0. 1. 0.]\n",
       "   [0. 0. 0. 0. 0. 0. 0. 0. 0. 0. 0. 0. 0. 0. 0. 0. 0. 0. 0. 1.]\n",
       "   [0. 0. 0. 0. 0. 0. 0. 0. 0. 0. 0. 0. 0. 0. 0. 0. 0. 0. 0. 0.]\n",
       "   [0. 0. 0. 0. 0. 0. 0. 0. 0. 0. 0. 0. 0. 0. 0. 0. 0. 0. 0. 0.]\n",
       "   [0. 0. 0. 0. 0. 0. 0. 0. 0. 0. 0. 0. 0. 0. 0. 0. 0. 0. 0. 0.]\n",
       "   [0. 0. 0. 0. 0. 0. 0. 0. 0. 0. 0. 0. 0. 0. 0. 0. 0. 0. 0. 0.]\n",
       "   [0. 0. 0. 0. 0. 0. 0. 0. 0. 0. 0. 0. 0. 0. 0. 0. 0. 0. 0. 0.]\n",
       "   [0. 0. 0. 0. 0. 0. 0. 0. 0. 0. 0. 0. 0. 0. 0. 0. 0. 0. 0. 0.]\n",
       "   [0. 0. 0. 0. 0. 0. 0. 0. 0. 0. 0. 0. 0. 0. 0. 0. 0. 0. 0. 0.]\n",
       "   [0. 0. 0. 0. 0. 0. 0. 0. 0. 0. 0. 0. 0. 0. 0. 0. 0. 0. 0. 0.]\n",
       "   [0. 0. 0. 0. 0. 0. 0. 0. 0. 0. 0. 0. 0. 0. 0. 0. 0. 0. 0. 0.]\n",
       "   [0. 0. 0. 0. 0. 0. 0. 0. 0. 0. 0. 0. 0. 0. 0. 0. 0. 0. 0. 0.]],\n",
       "  array([ 0.        -0.j, -0.00392732-0.j, -0.00882826-0.j, ...,\n",
       "          0.        -0.j,  0.        -0.j,  0.        -0.j])],\n",
       " [Quantum object: dims = [[2, 10], [2, 10]], shape = (20, 20), type = oper, isherm = False\n",
       "  Qobj data =\n",
       "  [[ 0.00000000e+00 -1.65000000e-05  0.00000000e+00  0.00000000e+00\n",
       "     0.00000000e+00  0.00000000e+00  0.00000000e+00  0.00000000e+00\n",
       "     0.00000000e+00  0.00000000e+00  0.00000000e+00  0.00000000e+00\n",
       "     0.00000000e+00  0.00000000e+00  0.00000000e+00  0.00000000e+00\n",
       "     0.00000000e+00  0.00000000e+00  0.00000000e+00  0.00000000e+00]\n",
       "   [ 0.00000000e+00  0.00000000e+00 -2.33345238e-05  0.00000000e+00\n",
       "     0.00000000e+00  0.00000000e+00  0.00000000e+00  0.00000000e+00\n",
       "     0.00000000e+00  0.00000000e+00  0.00000000e+00  0.00000000e+00\n",
       "     0.00000000e+00  0.00000000e+00  0.00000000e+00  0.00000000e+00\n",
       "     0.00000000e+00  0.00000000e+00  0.00000000e+00  0.00000000e+00]\n",
       "   [ 0.00000000e+00  0.00000000e+00  0.00000000e+00 -2.85788383e-05\n",
       "     0.00000000e+00  0.00000000e+00  0.00000000e+00  0.00000000e+00\n",
       "     0.00000000e+00  0.00000000e+00  0.00000000e+00  0.00000000e+00\n",
       "     0.00000000e+00  0.00000000e+00  0.00000000e+00  0.00000000e+00\n",
       "     0.00000000e+00  0.00000000e+00  0.00000000e+00  0.00000000e+00]\n",
       "   [ 0.00000000e+00  0.00000000e+00  0.00000000e+00  0.00000000e+00\n",
       "    -3.30000000e-05  0.00000000e+00  0.00000000e+00  0.00000000e+00\n",
       "     0.00000000e+00  0.00000000e+00  0.00000000e+00  0.00000000e+00\n",
       "     0.00000000e+00  0.00000000e+00  0.00000000e+00  0.00000000e+00\n",
       "     0.00000000e+00  0.00000000e+00  0.00000000e+00  0.00000000e+00]\n",
       "   [ 0.00000000e+00  0.00000000e+00  0.00000000e+00  0.00000000e+00\n",
       "     0.00000000e+00 -3.68951216e-05  0.00000000e+00  0.00000000e+00\n",
       "     0.00000000e+00  0.00000000e+00  0.00000000e+00  0.00000000e+00\n",
       "     0.00000000e+00  0.00000000e+00  0.00000000e+00  0.00000000e+00\n",
       "     0.00000000e+00  0.00000000e+00  0.00000000e+00  0.00000000e+00]\n",
       "   [ 0.00000000e+00  0.00000000e+00  0.00000000e+00  0.00000000e+00\n",
       "     0.00000000e+00  0.00000000e+00 -4.04165808e-05  0.00000000e+00\n",
       "     0.00000000e+00  0.00000000e+00  0.00000000e+00  0.00000000e+00\n",
       "     0.00000000e+00  0.00000000e+00  0.00000000e+00  0.00000000e+00\n",
       "     0.00000000e+00  0.00000000e+00  0.00000000e+00  0.00000000e+00]\n",
       "   [ 0.00000000e+00  0.00000000e+00  0.00000000e+00  0.00000000e+00\n",
       "     0.00000000e+00  0.00000000e+00  0.00000000e+00 -4.36548966e-05\n",
       "     0.00000000e+00  0.00000000e+00  0.00000000e+00  0.00000000e+00\n",
       "     0.00000000e+00  0.00000000e+00  0.00000000e+00  0.00000000e+00\n",
       "     0.00000000e+00  0.00000000e+00  0.00000000e+00  0.00000000e+00]\n",
       "   [ 0.00000000e+00  0.00000000e+00  0.00000000e+00  0.00000000e+00\n",
       "     0.00000000e+00  0.00000000e+00  0.00000000e+00  0.00000000e+00\n",
       "    -4.66690476e-05  0.00000000e+00  0.00000000e+00  0.00000000e+00\n",
       "     0.00000000e+00  0.00000000e+00  0.00000000e+00  0.00000000e+00\n",
       "     0.00000000e+00  0.00000000e+00  0.00000000e+00  0.00000000e+00]\n",
       "   [ 0.00000000e+00  0.00000000e+00  0.00000000e+00  0.00000000e+00\n",
       "     0.00000000e+00  0.00000000e+00  0.00000000e+00  0.00000000e+00\n",
       "     0.00000000e+00 -4.95000000e-05  0.00000000e+00  0.00000000e+00\n",
       "     0.00000000e+00  0.00000000e+00  0.00000000e+00  0.00000000e+00\n",
       "     0.00000000e+00  0.00000000e+00  0.00000000e+00  0.00000000e+00]\n",
       "   [ 0.00000000e+00  0.00000000e+00  0.00000000e+00  0.00000000e+00\n",
       "     0.00000000e+00  0.00000000e+00  0.00000000e+00  0.00000000e+00\n",
       "     0.00000000e+00  0.00000000e+00  0.00000000e+00  0.00000000e+00\n",
       "     0.00000000e+00  0.00000000e+00  0.00000000e+00  0.00000000e+00\n",
       "     0.00000000e+00  0.00000000e+00  0.00000000e+00  0.00000000e+00]\n",
       "   [ 0.00000000e+00  0.00000000e+00  0.00000000e+00  0.00000000e+00\n",
       "     0.00000000e+00  0.00000000e+00  0.00000000e+00  0.00000000e+00\n",
       "     0.00000000e+00  0.00000000e+00  0.00000000e+00  1.65000000e-05\n",
       "     0.00000000e+00  0.00000000e+00  0.00000000e+00  0.00000000e+00\n",
       "     0.00000000e+00  0.00000000e+00  0.00000000e+00  0.00000000e+00]\n",
       "   [ 0.00000000e+00  0.00000000e+00  0.00000000e+00  0.00000000e+00\n",
       "     0.00000000e+00  0.00000000e+00  0.00000000e+00  0.00000000e+00\n",
       "     0.00000000e+00  0.00000000e+00  0.00000000e+00  0.00000000e+00\n",
       "     2.33345238e-05  0.00000000e+00  0.00000000e+00  0.00000000e+00\n",
       "     0.00000000e+00  0.00000000e+00  0.00000000e+00  0.00000000e+00]\n",
       "   [ 0.00000000e+00  0.00000000e+00  0.00000000e+00  0.00000000e+00\n",
       "     0.00000000e+00  0.00000000e+00  0.00000000e+00  0.00000000e+00\n",
       "     0.00000000e+00  0.00000000e+00  0.00000000e+00  0.00000000e+00\n",
       "     0.00000000e+00  2.85788383e-05  0.00000000e+00  0.00000000e+00\n",
       "     0.00000000e+00  0.00000000e+00  0.00000000e+00  0.00000000e+00]\n",
       "   [ 0.00000000e+00  0.00000000e+00  0.00000000e+00  0.00000000e+00\n",
       "     0.00000000e+00  0.00000000e+00  0.00000000e+00  0.00000000e+00\n",
       "     0.00000000e+00  0.00000000e+00  0.00000000e+00  0.00000000e+00\n",
       "     0.00000000e+00  0.00000000e+00  3.30000000e-05  0.00000000e+00\n",
       "     0.00000000e+00  0.00000000e+00  0.00000000e+00  0.00000000e+00]\n",
       "   [ 0.00000000e+00  0.00000000e+00  0.00000000e+00  0.00000000e+00\n",
       "     0.00000000e+00  0.00000000e+00  0.00000000e+00  0.00000000e+00\n",
       "     0.00000000e+00  0.00000000e+00  0.00000000e+00  0.00000000e+00\n",
       "     0.00000000e+00  0.00000000e+00  0.00000000e+00  3.68951216e-05\n",
       "     0.00000000e+00  0.00000000e+00  0.00000000e+00  0.00000000e+00]\n",
       "   [ 0.00000000e+00  0.00000000e+00  0.00000000e+00  0.00000000e+00\n",
       "     0.00000000e+00  0.00000000e+00  0.00000000e+00  0.00000000e+00\n",
       "     0.00000000e+00  0.00000000e+00  0.00000000e+00  0.00000000e+00\n",
       "     0.00000000e+00  0.00000000e+00  0.00000000e+00  0.00000000e+00\n",
       "     4.04165808e-05  0.00000000e+00  0.00000000e+00  0.00000000e+00]\n",
       "   [ 0.00000000e+00  0.00000000e+00  0.00000000e+00  0.00000000e+00\n",
       "     0.00000000e+00  0.00000000e+00  0.00000000e+00  0.00000000e+00\n",
       "     0.00000000e+00  0.00000000e+00  0.00000000e+00  0.00000000e+00\n",
       "     0.00000000e+00  0.00000000e+00  0.00000000e+00  0.00000000e+00\n",
       "     0.00000000e+00  4.36548966e-05  0.00000000e+00  0.00000000e+00]\n",
       "   [ 0.00000000e+00  0.00000000e+00  0.00000000e+00  0.00000000e+00\n",
       "     0.00000000e+00  0.00000000e+00  0.00000000e+00  0.00000000e+00\n",
       "     0.00000000e+00  0.00000000e+00  0.00000000e+00  0.00000000e+00\n",
       "     0.00000000e+00  0.00000000e+00  0.00000000e+00  0.00000000e+00\n",
       "     0.00000000e+00  0.00000000e+00  4.66690476e-05  0.00000000e+00]\n",
       "   [ 0.00000000e+00  0.00000000e+00  0.00000000e+00  0.00000000e+00\n",
       "     0.00000000e+00  0.00000000e+00  0.00000000e+00  0.00000000e+00\n",
       "     0.00000000e+00  0.00000000e+00  0.00000000e+00  0.00000000e+00\n",
       "     0.00000000e+00  0.00000000e+00  0.00000000e+00  0.00000000e+00\n",
       "     0.00000000e+00  0.00000000e+00  0.00000000e+00  4.95000000e-05]\n",
       "   [ 0.00000000e+00  0.00000000e+00  0.00000000e+00  0.00000000e+00\n",
       "     0.00000000e+00  0.00000000e+00  0.00000000e+00  0.00000000e+00\n",
       "     0.00000000e+00  0.00000000e+00  0.00000000e+00  0.00000000e+00\n",
       "     0.00000000e+00  0.00000000e+00  0.00000000e+00  0.00000000e+00\n",
       "     0.00000000e+00  0.00000000e+00  0.00000000e+00  0.00000000e+00]],\n",
       "  array([0.        +0.j        , 0.        +0.j        ,\n",
       "         0.        +0.j        , ..., 0.00569574+0.00245415j,\n",
       "         0.00569574+0.00245415j, 0.00569574+0.00245415j])]]"
      ]
     },
     "execution_count": 70,
     "metadata": {},
     "output_type": "execute_result"
    }
   ],
   "source": [
    "H"
   ]
  },
  {
   "cell_type": "code",
   "execution_count": 71,
   "id": "5f3f2780",
   "metadata": {},
   "outputs": [
    {
     "ename": "NameError",
     "evalue": "name 'self' is not defined",
     "output_type": "error",
     "traceback": [
      "\u001b[1;31m---------------------------------------------------------------------------\u001b[0m",
      "\u001b[1;31mNameError\u001b[0m                                 Traceback (most recent call last)",
      "\u001b[1;32m<ipython-input-71-7ff5c34d17be>\u001b[0m in \u001b[0;36m<module>\u001b[1;34m\u001b[0m\n\u001b[1;32m----> 1\u001b[1;33m \u001b[0mself\u001b[0m\u001b[1;33m.\u001b[0m\u001b[0mHd\u001b[0m\u001b[1;33m\u001b[0m\u001b[1;33m\u001b[0m\u001b[0m\n\u001b[0m",
      "\u001b[1;31mNameError\u001b[0m: name 'self' is not defined"
     ]
    }
   ],
   "source": [
    "self.Hd"
   ]
  },
  {
   "cell_type": "code",
   "execution_count": 50,
   "id": "28b0741f",
   "metadata": {},
   "outputs": [],
   "source": [
    "from qutip import *\n",
    "from qutip.control import *\n",
    "from math import *"
   ]
  },
  {
   "cell_type": "code",
   "execution_count": 51,
   "id": "fc6ce7cc",
   "metadata": {},
   "outputs": [],
   "source": [
    "T = len(qutip_sim.alpha)\n",
    "times = np.linspace(0, T, T) #1ns timesteps"
   ]
  },
  {
   "cell_type": "markdown",
   "id": "2522d9f4",
   "metadata": {},
   "source": [
    "###### Qutip: System Hammy"
   ]
  },
  {
   "cell_type": "code",
   "execution_count": 52,
   "id": "2c79489a",
   "metadata": {},
   "outputs": [
    {
     "ename": "NameError",
     "evalue": "name 'storage_params' is not defined",
     "output_type": "error",
     "traceback": [
      "\u001b[1;31m---------------------------------------------------------------------------\u001b[0m",
      "\u001b[1;31mNameError\u001b[0m                                 Traceback (most recent call last)",
      "\u001b[1;32m<ipython-input-52-f33c42020bc9>\u001b[0m in \u001b[0;36m<module>\u001b[1;34m\u001b[0m\n\u001b[0;32m      6\u001b[0m \u001b[1;33m\u001b[0m\u001b[0m\n\u001b[0;32m      7\u001b[0m \u001b[1;31m#photon depenedent number shifts\u001b[0m\u001b[1;33m\u001b[0m\u001b[1;33m\u001b[0m\u001b[1;33m\u001b[0m\u001b[0m\n\u001b[1;32m----> 8\u001b[1;33m \u001b[0mchi\u001b[0m \u001b[1;33m=\u001b[0m \u001b[0mstorage_params\u001b[0m\u001b[1;33m[\u001b[0m\u001b[1;34m\"chi_kHz\"\u001b[0m\u001b[1;33m]\u001b[0m\u001b[1;33m*\u001b[0m\u001b[1;36m2\u001b[0m\u001b[1;33m*\u001b[0m\u001b[0mpi\u001b[0m\u001b[1;33m*\u001b[0m\u001b[1;33m(\u001b[0m\u001b[1;36m10\u001b[0m\u001b[1;33m**\u001b[0m\u001b[1;33m(\u001b[0m\u001b[1;33m-\u001b[0m\u001b[1;36m6\u001b[0m\u001b[1;33m)\u001b[0m\u001b[1;33m)\u001b[0m \u001b[1;31m#linear\u001b[0m\u001b[1;33m\u001b[0m\u001b[1;33m\u001b[0m\u001b[0m\n\u001b[0m\u001b[0;32m      9\u001b[0m \u001b[0mchi_\u001b[0m \u001b[1;33m=\u001b[0m \u001b[0mstorage_params\u001b[0m\u001b[1;33m[\u001b[0m\u001b[1;34m\"chi_prime_Hz\"\u001b[0m\u001b[1;33m]\u001b[0m\u001b[1;33m*\u001b[0m\u001b[1;33m(\u001b[0m\u001b[1;36m10\u001b[0m\u001b[1;33m**\u001b[0m\u001b[1;33m(\u001b[0m\u001b[1;33m-\u001b[0m\u001b[1;36m9\u001b[0m\u001b[1;33m)\u001b[0m\u001b[1;33m)\u001b[0m \u001b[1;31m#quadratic\u001b[0m\u001b[1;33m\u001b[0m\u001b[1;33m\u001b[0m\u001b[0m\n\u001b[0;32m     10\u001b[0m \u001b[1;33m\u001b[0m\u001b[0m\n",
      "\u001b[1;31mNameError\u001b[0m: name 'storage_params' is not defined"
     ]
    }
   ],
   "source": [
    "n_c = 10  #number of levels in cavity\n",
    "n_q = 2 #number of levels in qubit\n",
    "\n",
    "#N = 1 #target cavity state\n",
    "\n",
    "\n",
    "#photon depenedent number shifts\n",
    "chi = storage_params[\"chi_kHz\"]*2*pi*(10**(-6)) #linear\n",
    "chi_ = storage_params[\"chi_prime_Hz\"]*(10**(-9)) #quadratic\n",
    "\n",
    "##mode to mode coupling \n",
    "eta = 10**(-9)"
   ]
  },
  {
   "cell_type": "code",
   "execution_count": 53,
   "id": "6211cb82",
   "metadata": {},
   "outputs": [],
   "source": [
    "# Creating identity, annhilitation/creation, num operators \n",
    "identity_q = qeye(n_q)\n",
    "identity_c = qeye(n_c)\n",
    "\n",
    "a_q = destroy(n_q)\n",
    "a_c = destroy(n_c)\n",
    "\n",
    "adag_q = create(n_q)\n",
    "adag_c = create(n_c)\n",
    "\n",
    "num_q = num(n_q)\n",
    "num_c =  num(n_c)\n",
    "\n",
    "\n",
    "c_ops = []\n",
    "\n",
    "tlist = times\n",
    "\n",
    "\n"
   ]
  },
  {
   "cell_type": "code",
   "execution_count": 54,
   "id": "4320d488",
   "metadata": {},
   "outputs": [],
   "source": [
    "# Displace Frame hammy\n",
    "H0_disp = tensor(identity_q,identity_c)#(chi/2)*tensor(sigmaz(),num_c)"
   ]
  },
  {
   "cell_type": "code",
   "execution_count": 62,
   "id": "6822393b",
   "metadata": {},
   "outputs": [],
   "source": [
    "chi = -33e-6\n",
    "# prepping time depedent hammys\n",
    "#alpha_sq =np.real( [np.real(i)**2 + np.imag(i)**2 for i in alpha])\n",
    "Hd = [\n",
    "#     H0_disp,\n",
    "    [tensor(a_q, qeye(n_c)), np.conjugate(qutip_sim.qubit_pulse)], \n",
    "#      [tensor(adag_q, qeye(n_c)), qubit_dac_pulse_GHz],\n",
    "# #         [a_q, qubit_imag], #convert from DAC to MHz to Ghz\n",
    "# #      [adag_q, qubit_real],\n",
    "     [(chi/2)*tensor(sigmaz(), destroy(n_c)), qutip_sim.alpha],\n",
    "#      [(chi/2)*tensor(sigmaz(), create(n_c)), alpha],\n",
    "#      #[(chi/2)*tensor(sigmaz(), qeye(n_c)), alpha_sq]\n",
    "     ]\n",
    "\n",
    "H = [H0_disp]\n",
    "for i in Hd: \n",
    "    H.append(i)"
   ]
  },
  {
   "cell_type": "code",
   "execution_count": 65,
   "id": "50f6d703",
   "metadata": {},
   "outputs": [
    {
     "data": {
      "text/plain": [
       "array([0.00000000e+00, 1.00082305e+00, 2.00164609e+00, ...,\n",
       "       1.21399835e+03, 1.21499918e+03, 1.21600000e+03])"
      ]
     },
     "execution_count": 65,
     "metadata": {},
     "output_type": "execute_result"
    }
   ],
   "source": [
    "times"
   ]
  },
  {
   "cell_type": "markdown",
   "id": "e78603f7",
   "metadata": {},
   "source": [
    "###### Qutip: Simulation"
   ]
  },
  {
   "cell_type": "code",
   "execution_count": 63,
   "id": "e9797aca",
   "metadata": {},
   "outputs": [],
   "source": [
    "states_filename = 'State_store_g0_g1'"
   ]
  },
  {
   "cell_type": "code",
   "execution_count": 97,
   "id": "f03ef963",
   "metadata": {},
   "outputs": [],
   "source": [
    "psi0 = tensor(basis(n_q,0), basis(n_c,0))\n",
    "opts = Options(store_states=True, store_final_state=True, nsteps = 5000)\n",
    "output = mesolve(qutip_sim.Hd, psi0 , times, c_ops, [], options =opts)\n",
    "#qsave(output.states, states_filename)\n",
    "rho = output.states[-1]"
   ]
  },
  {
   "cell_type": "code",
   "execution_count": 168,
   "id": "072ca451",
   "metadata": {},
   "outputs": [
    {
     "data": {
      "text/latex": [
       "Quantum object: dims = [[2, 10], [1, 1]], shape = (20, 1), type = ket\\begin{equation*}\\left(\\begin{array}{*{11}c}(-0.005+0.012j)\\\\(-0.749-0.648j)\\\\(-0.002+0.005j)\\\\(0.016-0.023j)\\\\(-2.626\\times10^{-04}+0.001j)\\\\\\vdots\\\\(0.004+4.572\\times10^{-04}j)\\\\(-0.049+0.021j)\\\\(-4.940\\times10^{-04}+0.002j)\\\\(-0.005-0.009j)\\\\(-2.079\\times10^{-04}-1.121\\times10^{-04}j)\\\\\\end{array}\\right)\\end{equation*}"
      ],
      "text/plain": [
       "Quantum object: dims = [[2, 10], [1, 1]], shape = (20, 1), type = ket\n",
       "Qobj data =\n",
       "[[-5.30301514e-03+1.19288384e-02j]\n",
       " [-7.48908390e-01-6.47733646e-01j]\n",
       " [-2.49895748e-03+5.20877129e-03j]\n",
       " [ 1.62718544e-02-2.28051313e-02j]\n",
       " [-2.62597381e-04+1.18006839e-03j]\n",
       " [-8.55804072e-02-4.23534164e-02j]\n",
       " [-4.61036058e-04+3.55805912e-04j]\n",
       " [ 1.00218036e-02-2.53055812e-02j]\n",
       " [-6.47401104e-05+3.59004451e-05j]\n",
       " [ 2.59545214e-03+1.05430881e-03j]\n",
       " [ 7.03053048e-04+3.67588799e-02j]\n",
       " [ 2.56191092e-02+9.73091808e-03j]\n",
       " [-2.61922306e-02+1.14121646e-03j]\n",
       " [-1.18976518e-03+1.86008061e-03j]\n",
       " [ 1.24539949e-02+5.25871380e-02j]\n",
       " [ 4.06233510e-03+4.57246866e-04j]\n",
       " [-4.94942423e-02+2.05941235e-02j]\n",
       " [-4.93965272e-04+1.59844660e-03j]\n",
       " [-4.86253609e-03-9.37851100e-03j]\n",
       " [-2.07923001e-04-1.12138291e-04j]]"
      ]
     },
     "execution_count": 168,
     "metadata": {},
     "output_type": "execute_result"
    }
   ],
   "source": [
    "rho"
   ]
  },
  {
   "cell_type": "code",
   "execution_count": 169,
   "id": "8b589d64",
   "metadata": {},
   "outputs": [],
   "source": [
    "target_state = tensor(basis(n_q,0), basis(n_c, 1))\n",
    "fidelity = rho.overlap(target_state)\n",
    "#print('Fidelity is '+ str(fidelity*fidelity.imag))"
   ]
  },
  {
   "cell_type": "code",
   "execution_count": 170,
   "id": "d9eb9e29",
   "metadata": {},
   "outputs": [
    {
     "data": {
      "text/plain": [
       "(0.9804226523980482+0j)"
      ]
     },
     "execution_count": 170,
     "metadata": {},
     "output_type": "execute_result"
    }
   ],
   "source": [
    "fidelity*np.conjugate(fidelity)"
   ]
  },
  {
   "cell_type": "code",
   "execution_count": 171,
   "id": "3727b4b2",
   "metadata": {},
   "outputs": [
    {
     "data": {
      "text/plain": [
       "0.9813107"
      ]
     },
     "execution_count": 171,
     "metadata": {},
     "output_type": "execute_result"
    }
   ],
   "source": [
    "opt.best_fidelity()"
   ]
  },
  {
   "cell_type": "code",
   "execution_count": 172,
   "id": "8e53a4b4",
   "metadata": {},
   "outputs": [],
   "source": [
    "import pylab as plot\n",
    "params = {'legend.fontsize': 15,\n",
    "          'legend.handlelength': 2}\n",
    "plot.rcParams.update(params)"
   ]
  },
  {
   "cell_type": "code",
   "execution_count": 173,
   "id": "2f543c7a",
   "metadata": {},
   "outputs": [],
   "source": [
    "def plot_populations_single_mode(output_states, figname, title):\n",
    "    '''\n",
    "    Given output of mesolve, outputs populations with qubit as ground\n",
    "    '''\n",
    "    fig, axs = plt.subplots(2,1, figsize=(10,8))\n",
    "    probs = []\n",
    "    times = [k/1000 for k in range(len(output_states))]\n",
    "    max_num_levels = 10 # to be shown on the plot\n",
    "    \n",
    "    #qubit grounded\n",
    "    for i in range(max_num_levels):\n",
    "        target = tensor(basis(n_q,0), basis(n_c, i))\n",
    "        pops = []\n",
    "        for k in range(len(output_states)): \n",
    "            z = target.overlap(output_states[k])\n",
    "            pops.append(z.real**2 + z.imag**2)\n",
    "        axs[0].plot(times, pops, label = '|g,'+str(i)+'>')\n",
    "    \n",
    "    #qubit excited\n",
    "    for i in range(max_num_levels):\n",
    "        target = tensor(basis(n_q,1), basis(n_c, i))\n",
    "        pops = []\n",
    "        for k in range(len(output_states)): \n",
    "            z = target.overlap(output_states[k])\n",
    "            pops.append(z.real**2 + z.imag**2)\n",
    "        axs[1].plot(times, pops, linestyle = '--',  label = '|e,'+str(i) +'>')\n",
    "\n",
    "    axs[1].set_xlabel(r\"Time ($\\mu$s)\", fontsize = 18)\n",
    "    axs[1].set_ylabel(\"Populations\", fontsize = 18)\n",
    "    axs[0].set_ylabel(\"Populations\", fontsize = 18)\n",
    "    axs[0].tick_params(axis = 'both', which = 'major', labelsize = '15')\n",
    "    axs[0].tick_params(axis = 'both', which = 'minor', labelsize = '15')\n",
    "    axs[1].tick_params(axis = 'both', which = 'major', labelsize = '15')\n",
    "    axs[1].tick_params(axis = 'both', which = 'minor', labelsize = '15')\n",
    "#     axs[0].set_xticks(fontsize= 10)\n",
    "#     axs[1].set_yticks(fontsize= 10)\n",
    "#     axs[0].set_yticks(fontsize= 10)\n",
    "#     plt.legend(prop={'size': 20},  fontsize = 8, loc='upper center', bbox_to_anchor=(0.5, 1.05),\n",
    "#           ncol=3, fancybox=True, shadow=True)   \n",
    "    axs[0].legend(loc='center left', bbox_to_anchor=(1, 0.5), fontsize = '15')\n",
    "    axs[1].legend(loc='center left', bbox_to_anchor=(1, 0.5), fontsize = '15')\n",
    "    #plt.legend(fontsize = '15')\n",
    "    #fig.suptitle(title, fontsize = 15)\n",
    "    plt.tight_layout()\n",
    "    fig.savefig(figname, dpi = 1000)"
   ]
  },
  {
   "cell_type": "code",
   "execution_count": 174,
   "id": "16820bde",
   "metadata": {},
   "outputs": [
    {
     "name": "stdout",
     "output_type": "stream",
     "text": [
      "Loaded list object.\n"
     ]
    },
    {
     "data": {
      "image/png": "[encoded data removed]",
      "text/plain": [
       "<Figure size 720x576 with 2 Axes>"
      ]
     },
     "metadata": {
      "needs_background": "light"
     },
     "output_type": "display_data"
    }
   ],
   "source": [
    "figname = \"g0_g1\"\n",
    "data = qload(states_filename)\n",
    "plot_populations_single_mode(data, figname, None)"
   ]
  },
  {
   "cell_type": "code",
   "execution_count": null,
   "id": "eb1bdf62",
   "metadata": {},
   "outputs": [],
   "source": []
  },
  {
   "cell_type": "code",
   "execution_count": null,
   "id": "6b0ccf94",
   "metadata": {},
   "outputs": [],
   "source": []
  },
  {
   "cell_type": "code",
   "execution_count": null,
   "id": "2a5938b3",
   "metadata": {},
   "outputs": [],
   "source": []
  },
  {
   "cell_type": "code",
   "execution_count": null,
   "id": "dee1fea1",
   "metadata": {},
   "outputs": [],
   "source": []
  },
  {
   "cell_type": "markdown",
   "id": "e3599a57",
   "metadata": {},
   "source": [
    "# Dump"
   ]
  },
  {
   "cell_type": "code",
   "execution_count": 102,
   "id": "83a6c18a",
   "metadata": {},
   "outputs": [],
   "source": [
    "def plot_populations(output, figname):\n",
    "    '''\n",
    "    Given output of mesolve, outputs populations with qubit as ground\n",
    "    '''\n",
    "    fig = plt.figure(figsize=(10,8))\n",
    "    probs = []\n",
    "    times = [k for k in range(len(output.states))]\n",
    "    max_num_levels = 3 # to be shown on the plot\n",
    "    \n",
    "    #qubit grounded\n",
    "    for i in range(max_num_levels):\n",
    "        for j in range(max_num_levels):\n",
    "            target = tensor(basis(n_q,0), basis(n_c, i), basis(n_c, j))\n",
    "            pops = []\n",
    "            for k in range(len(output.states)): \n",
    "                z = target.overlap(output.states[k])\n",
    "                pops.append(z.real**2 + z.imag**2)\n",
    "            plt.plot(times, pops, label = '|g,'+str(i)+',' + str(j)+'>')\n",
    "    \n",
    "    #qubit excited\n",
    "    for i in range(max_num_levels):\n",
    "        for j in range(max_num_levels):\n",
    "            target = tensor(basis(n_q,1), basis(n_c, i), basis(n_c, j))\n",
    "            pops = []\n",
    "            for k in range(len(output.states)): \n",
    "                z = target.overlap(output.states[k])\n",
    "                pops.append(z.real**2 + z.imag**2)\n",
    "            plt.plot(times, pops, label = '|e,'+str(i)+',' + str(j)+'>')\n",
    "            \n",
    "    plt.xlabel(\"Time (ns)\", fontsize = 14)\n",
    "    plt.ylabel(\"Populations\", fontsize = 14)\n",
    "    plt.xticks(fontsize= 10)\n",
    "    plt.yticks(fontsize= 10)\n",
    "#     plt.legend(prop={'size': 20},  fontsize = 8, loc='upper center', bbox_to_anchor=(0.5, 1.05),\n",
    "#           ncol=3, fancybox=True, shadow=True)   \n",
    "    plt.legend(loc='center left', bbox_to_anchor=(1, 0.5))\n",
    "    #plt.legend()\n",
    "    fig.savefig(figname, dpi = 1000)"
   ]
  },
  {
   "cell_type": "code",
   "execution_count": 92,
   "id": "48a7a0e9",
   "metadata": {
    "scrolled": true
   },
   "outputs": [
    {
     "ename": "TypeError",
     "evalue": "incompatible lengths 200 and 20",
     "output_type": "error",
     "traceback": [
      "\u001b[1;31m---------------------------------------------------------------------------\u001b[0m",
      "\u001b[1;31mTypeError\u001b[0m                                 Traceback (most recent call last)",
      "\u001b[1;32m<ipython-input-92-dee432a2a11b>\u001b[0m in \u001b[0;36m<module>\u001b[1;34m\u001b[0m\n\u001b[1;32m----> 1\u001b[1;33m \u001b[0mplot_populations\u001b[0m\u001b[1;33m(\u001b[0m\u001b[0moutput\u001b[0m\u001b[1;33m,\u001b[0m \u001b[1;34m'g00 to g01_eta1Hz.png'\u001b[0m\u001b[1;33m)\u001b[0m\u001b[1;33m\u001b[0m\u001b[1;33m\u001b[0m\u001b[0m\n\u001b[0m",
      "\u001b[1;32m<ipython-input-91-5278232a8a25>\u001b[0m in \u001b[0;36mplot_populations\u001b[1;34m(output, figname)\u001b[0m\n\u001b[0;32m     14\u001b[0m             \u001b[0mpops\u001b[0m \u001b[1;33m=\u001b[0m \u001b[1;33m[\u001b[0m\u001b[1;33m]\u001b[0m\u001b[1;33m\u001b[0m\u001b[1;33m\u001b[0m\u001b[0m\n\u001b[0;32m     15\u001b[0m             \u001b[1;32mfor\u001b[0m \u001b[0mk\u001b[0m \u001b[1;32min\u001b[0m \u001b[0mrange\u001b[0m\u001b[1;33m(\u001b[0m\u001b[0mlen\u001b[0m\u001b[1;33m(\u001b[0m\u001b[0moutput\u001b[0m\u001b[1;33m.\u001b[0m\u001b[0mstates\u001b[0m\u001b[1;33m)\u001b[0m\u001b[1;33m)\u001b[0m\u001b[1;33m:\u001b[0m\u001b[1;33m\u001b[0m\u001b[1;33m\u001b[0m\u001b[0m\n\u001b[1;32m---> 16\u001b[1;33m                 \u001b[0mz\u001b[0m \u001b[1;33m=\u001b[0m \u001b[0mtarget\u001b[0m\u001b[1;33m.\u001b[0m\u001b[0moverlap\u001b[0m\u001b[1;33m(\u001b[0m\u001b[0moutput\u001b[0m\u001b[1;33m.\u001b[0m\u001b[0mstates\u001b[0m\u001b[1;33m[\u001b[0m\u001b[0mk\u001b[0m\u001b[1;33m]\u001b[0m\u001b[1;33m)\u001b[0m\u001b[1;33m\u001b[0m\u001b[1;33m\u001b[0m\u001b[0m\n\u001b[0m\u001b[0;32m     17\u001b[0m                 \u001b[0mpops\u001b[0m\u001b[1;33m.\u001b[0m\u001b[0mappend\u001b[0m\u001b[1;33m(\u001b[0m\u001b[0mz\u001b[0m\u001b[1;33m.\u001b[0m\u001b[0mreal\u001b[0m\u001b[1;33m**\u001b[0m\u001b[1;36m2\u001b[0m \u001b[1;33m+\u001b[0m \u001b[0mz\u001b[0m\u001b[1;33m.\u001b[0m\u001b[0mimag\u001b[0m\u001b[1;33m**\u001b[0m\u001b[1;36m2\u001b[0m\u001b[1;33m)\u001b[0m\u001b[1;33m\u001b[0m\u001b[1;33m\u001b[0m\u001b[0m\n\u001b[0;32m     18\u001b[0m             \u001b[0mplt\u001b[0m\u001b[1;33m.\u001b[0m\u001b[0mplot\u001b[0m\u001b[1;33m(\u001b[0m\u001b[0mtimes\u001b[0m\u001b[1;33m,\u001b[0m \u001b[0mpops\u001b[0m\u001b[1;33m,\u001b[0m \u001b[0mlabel\u001b[0m \u001b[1;33m=\u001b[0m \u001b[1;34m'|g,'\u001b[0m\u001b[1;33m+\u001b[0m\u001b[0mstr\u001b[0m\u001b[1;33m(\u001b[0m\u001b[0mi\u001b[0m\u001b[1;33m)\u001b[0m\u001b[1;33m+\u001b[0m\u001b[1;34m','\u001b[0m \u001b[1;33m+\u001b[0m \u001b[0mstr\u001b[0m\u001b[1;33m(\u001b[0m\u001b[0mj\u001b[0m\u001b[1;33m)\u001b[0m\u001b[1;33m+\u001b[0m\u001b[1;34m'>'\u001b[0m\u001b[1;33m)\u001b[0m\u001b[1;33m\u001b[0m\u001b[1;33m\u001b[0m\u001b[0m\n",
      "\u001b[1;32m~\\anaconda\\lib\\site-packages\\qutip\\qobj.py\u001b[0m in \u001b[0;36moverlap\u001b[1;34m(self, other)\u001b[0m\n\u001b[0;32m   1658\u001b[0m                     \u001b[1;32mreturn\u001b[0m \u001b[0mzcsr_inner\u001b[0m\u001b[1;33m(\u001b[0m\u001b[0mother\u001b[0m\u001b[1;33m.\u001b[0m\u001b[0mdata\u001b[0m\u001b[1;33m,\u001b[0m \u001b[0mself\u001b[0m\u001b[1;33m.\u001b[0m\u001b[0mdata\u001b[0m\u001b[1;33m,\u001b[0m \u001b[1;36m1\u001b[0m\u001b[1;33m)\u001b[0m\u001b[1;33m\u001b[0m\u001b[1;33m\u001b[0m\u001b[0m\n\u001b[0;32m   1659\u001b[0m                 \u001b[1;32melif\u001b[0m \u001b[0mother\u001b[0m\u001b[1;33m.\u001b[0m\u001b[0misket\u001b[0m\u001b[1;33m:\u001b[0m\u001b[1;33m\u001b[0m\u001b[1;33m\u001b[0m\u001b[0m\n\u001b[1;32m-> 1660\u001b[1;33m                     \u001b[1;32mreturn\u001b[0m \u001b[0mzcsr_inner\u001b[0m\u001b[1;33m(\u001b[0m\u001b[0mself\u001b[0m\u001b[1;33m.\u001b[0m\u001b[0mdata\u001b[0m\u001b[1;33m,\u001b[0m \u001b[0mother\u001b[0m\u001b[1;33m.\u001b[0m\u001b[0mdata\u001b[0m\u001b[1;33m,\u001b[0m \u001b[1;36m0\u001b[0m\u001b[1;33m)\u001b[0m\u001b[1;33m\u001b[0m\u001b[1;33m\u001b[0m\u001b[0m\n\u001b[0m\u001b[0;32m   1661\u001b[0m                 \u001b[1;32melif\u001b[0m \u001b[0mother\u001b[0m\u001b[1;33m.\u001b[0m\u001b[0misoper\u001b[0m\u001b[1;33m:\u001b[0m\u001b[1;33m\u001b[0m\u001b[1;33m\u001b[0m\u001b[0m\n\u001b[0;32m   1662\u001b[0m                     \u001b[1;32mreturn\u001b[0m \u001b[1;33m(\u001b[0m\u001b[0mqutip\u001b[0m\u001b[1;33m.\u001b[0m\u001b[0mstates\u001b[0m\u001b[1;33m.\u001b[0m\u001b[0mket2dm\u001b[0m\u001b[1;33m(\u001b[0m\u001b[0mself\u001b[0m\u001b[1;33m)\u001b[0m\u001b[1;33m.\u001b[0m\u001b[0mdag\u001b[0m\u001b[1;33m(\u001b[0m\u001b[1;33m)\u001b[0m \u001b[1;33m*\u001b[0m \u001b[0mother\u001b[0m\u001b[1;33m)\u001b[0m\u001b[1;33m.\u001b[0m\u001b[0mtr\u001b[0m\u001b[1;33m(\u001b[0m\u001b[1;33m)\u001b[0m\u001b[1;33m\u001b[0m\u001b[1;33m\u001b[0m\u001b[0m\n",
      "\u001b[1;32m~\\anaconda\\lib\\site-packages\\qutip\\cy\\spmath.pyx\u001b[0m in \u001b[0;36mqutip.cy.spmath.zcsr_inner\u001b[1;34m()\u001b[0m\n",
      "\u001b[1;31mTypeError\u001b[0m: incompatible lengths 200 and 20"
     ]
    },
    {
     "data": {
      "text/plain": [
       "<Figure size 720x576 with 0 Axes>"
      ]
     },
     "metadata": {},
     "output_type": "display_data"
    }
   ],
   "source": [
    "\n",
    "plot_populations(output, 'g00 to g01_eta1Hz.png')"
   ]
  },
  {
   "cell_type": "markdown",
   "id": "689aeea4",
   "metadata": {},
   "source": [
    "# g01-> g11"
   ]
  },
  {
   "cell_type": "code",
   "execution_count": 70,
   "id": "b57b3a6d",
   "metadata": {},
   "outputs": [],
   "source": [
    "def get_hammy(eta): \n",
    "    '''\n",
    "    get hamiltonian for system with specified eta\n",
    "    '''\n",
    "    \n",
    "    # Displace Frame hammy\n",
    "    H0_disp = ((chi/2)*tensor(sigmaz(), num_c, identity_c) # first mode -qubit\n",
    "            +\n",
    "          (chi/2)*tensor(sigmaz(), identity_c, num_c) # 2nd mode - qubit\n",
    "           +\n",
    "          (eta)*tensor(identity_q, num_c, num_c)) # MODE-MODE\n",
    "    \n",
    "    # prepping time depedent hammys\n",
    "    alpha_sq =np.real( [np.real(i)**2 + np.imag(i)**2 for i in alpha])\n",
    "    \n",
    "    H = [H0_disp,\n",
    "         #Qubit drive\n",
    "        [tensor(a_q, identity_c, identity_c), np.conjugate(qubit_dac_pulse_GHz)], \n",
    "         [tensor(adag_q, identity_c, identity_c), qubit_dac_pulse_GHz],\n",
    "\n",
    "         # Desired Displacement term from qubit-mode coupling\n",
    "         [(chi/2)*tensor(sigmaz(), a_c, identity_c), alpha_star],  \n",
    "         [(chi/2)*tensor(sigmaz(), adag_c, identity_c), alpha],\n",
    "\n",
    "         # UnDesired Displacement term from mode-mode coupling\n",
    "         [(eta)*tensor(identity_q, a_c, num_c), alpha_star],  \n",
    "         [(eta)*tensor(identity_q, adag_c, num_c), alpha],\n",
    "\n",
    "         # Undesired alpha^2 terms\n",
    "          [(chi/2)*tensor(sigmaz(), identity_c, identity_c), alpha_sq],\n",
    "         [(eta)*tensor(identity_q, identity_c, num_c), alpha_sq]\n",
    "         ]\n",
    "    return H"
   ]
  },
  {
   "cell_type": "code",
   "execution_count": 78,
   "id": "8ac81c87",
   "metadata": {},
   "outputs": [],
   "source": [
    "psi0_new = tensor(basis(n_q,0), basis(n_c,0), basis(n_c,1))\n",
    "opts = Options(store_states=True, store_final_state=True, nsteps = 5000)\n",
    "output2 = mesolve(H, psi0_new , times, c_ops, [], options =opts)\n",
    "rho2 = output2.states[-1]"
   ]
  },
  {
   "cell_type": "code",
   "execution_count": 79,
   "id": "29c57cba",
   "metadata": {},
   "outputs": [
    {
     "name": "stdout",
     "output_type": "stream",
     "text": [
      "Fidelity is (0.98889596104917-0.03804891443889872j)\n"
     ]
    }
   ],
   "source": [
    "target_state2 = tensor(basis(n_q,0), basis(n_c, 1), basis(n_c, 1))\n",
    "fidelity = rho2.overlap(target_state2)\n",
    "print('Fidelity is '+ str(fidelity))"
   ]
  },
  {
   "cell_type": "code",
   "execution_count": 82,
   "id": "eccec197",
   "metadata": {},
   "outputs": [
    {
     "data": {
      "image/png": "[encoded data removed]",
      "text/plain": [
       "<Figure size 720x576 with 1 Axes>"
      ]
     },
     "metadata": {
      "needs_background": "light"
     },
     "output_type": "display_data"
    }
   ],
   "source": [
    "plot_populations(output2, 'g01 to g11_eta1Hz.png')"
   ]
  },
  {
   "cell_type": "markdown",
   "id": "22e4d102",
   "metadata": {},
   "source": [
    "# Turning chi of second mode off"
   ]
  },
  {
   "cell_type": "code",
   "execution_count": 86,
   "id": "6157dd4f",
   "metadata": {},
   "outputs": [],
   "source": [
    "def get_hammy(eta, chi_2): \n",
    "    '''\n",
    "    get hamiltonian for system with specified eta\n",
    "    '''\n",
    "    \n",
    "    # Displace Frame hammy\n",
    "    H0_disp = ((chi/2)*tensor(sigmaz(), num_c, identity_c) # first mode -qubit\n",
    "            +\n",
    "          (chi_2/2)*tensor(sigmaz(), identity_c, num_c) # 2nd mode - qubit\n",
    "           +\n",
    "          (eta)*tensor(identity_q, num_c, num_c)) # MODE-MODE\n",
    "    \n",
    "    # prepping time depedent hammys\n",
    "    alpha_sq =np.real( [np.real(i)**2 + np.imag(i)**2 for i in alpha])\n",
    "    \n",
    "    H = [H0_disp,\n",
    "         #Qubit drive\n",
    "        [tensor(a_q, identity_c, identity_c), np.conjugate(qubit_dac_pulse_GHz)], \n",
    "         [tensor(adag_q, identity_c, identity_c), qubit_dac_pulse_GHz],\n",
    "\n",
    "         # Desired Displacement term from qubit-mode coupling\n",
    "         [(chi/2)*tensor(sigmaz(), a_c, identity_c), alpha_star],  \n",
    "         [(chi/2)*tensor(sigmaz(), adag_c, identity_c), alpha],\n",
    "\n",
    "         # UnDesired Displacement term from mode-mode coupling\n",
    "         [(eta)*tensor(identity_q, a_c, num_c), alpha_star],  \n",
    "         [(eta)*tensor(identity_q, adag_c, num_c), alpha],\n",
    "\n",
    "         # Undesired alpha^2 terms\n",
    "          [(chi/2)*tensor(sigmaz(), identity_c, identity_c), alpha_sq],\n",
    "         [(eta)*tensor(identity_q, identity_c, num_c), alpha_sq]\n",
    "         ]\n",
    "    return H"
   ]
  },
  {
   "cell_type": "code",
   "execution_count": 87,
   "id": "23b7b443",
   "metadata": {},
   "outputs": [],
   "source": [
    "def get_fidelity(eta, chi_2):\n",
    "    \"\"\"\n",
    "    With specified eta, we return the overlap between final state after unitary \n",
    "    dynamics and the target state\n",
    "    \"\"\"\n",
    "    H = get_hammy(eta, chi_2)\n",
    "    psi0 = tensor(basis(n_q,0), basis(n_c,0), basis(n_c,1))\n",
    "    opts = Options(store_states=True, store_final_state=True, nsteps = 5000)\n",
    "    output = mesolve(H, psi0 , times, c_ops, [], options =opts)\n",
    "    rho = output.states[-1]\n",
    "    \n",
    "    target_state = tensor(basis(n_q,0), basis(n_c, 1), basis(n_c, 1))\n",
    "    fidelity = np.absolute(rho.overlap(target_state))\n",
    "    print('Eta is ' + str(eta) + ' and fidelity is ' + str(fidelity))\n",
    "    print(rho.overlap(target_state))\n",
    "    \n",
    "    return fidelity "
   ]
  },
  {
   "cell_type": "code",
   "execution_count": 90,
   "id": "bd4e12ba",
   "metadata": {},
   "outputs": [
    {
     "name": "stdout",
     "output_type": "stream",
     "text": [
      "Eta is 0.0 and fidelity is 0.0\n",
      "0j\n",
      "0.0\n",
      "Eta is 1e-09 and fidelity is 1.1073563282116465e-09\n",
      "(1.0911156528136339e-09+1.8895679351496526e-10j)\n",
      "1.1073563282116465e-09\n",
      "Eta is 2e-09 and fidelity is 1.8977223717671493e-09\n",
      "(-1.504943830511127e-09+1.1560684526930189e-09j)\n",
      "1.8977223717671493e-09\n",
      "Eta is 3.0000000000000004e-09 and fidelity is 1.2952469273122654e-09\n",
      "(1.2715434086499461e-09+2.466616359119129e-10j)\n",
      "1.2952469273122654e-09\n",
      "Eta is 4e-09 and fidelity is 1.1610719385024937e-09\n",
      "(1.1475008734338014e-09-1.7700223684067108e-10j)\n",
      "1.1610719385024937e-09\n",
      "Eta is 5e-09 and fidelity is 2.2105125816879537e-10\n",
      "(1.979522382930261e-10-9.837972399223545e-11j)\n",
      "2.2105125816879537e-10\n",
      "Eta is 6.000000000000001e-09 and fidelity is 1.3219089619857868e-09\n",
      "(1.8724568167507506e-10-1.3085802835410509e-09j)\n",
      "1.3219089619857868e-09\n",
      "Eta is 7.000000000000001e-09 and fidelity is 5.687939446462081e-10\n",
      "(1.74810904394292e-10+5.412649066501941e-10j)\n",
      "5.687939446462081e-10\n",
      "Eta is 8e-09 and fidelity is 1.3727149280652003e-09\n",
      "(1.303544248672079e-09-4.302541870650341e-10j)\n",
      "1.3727149280652003e-09\n",
      "Eta is 9.000000000000001e-09 and fidelity is 7.761330405055257e-10\n",
      "(2.1187733491732479e-10+7.4665285877219e-10j)\n",
      "7.761330405055257e-10\n",
      "Eta is 0.0 and fidelity is 0.007808189788132716\n",
      "(-0.007804255003020947+0.0002478540201863936j)\n",
      "0.007808189788132716\n",
      "Eta is 1e-09 and fidelity is 0.0078081898164696064\n",
      "(-0.0078043585714234745+0.0002445720725442955j)\n",
      "0.0078081898164696064\n",
      "Eta is 2e-09 and fidelity is 0.0078081898364436055\n",
      "(-0.007804460751289006+0.00024129008170802927j)\n",
      "0.0078081898364436055\n",
      "Eta is 3.0000000000000004e-09 and fidelity is 0.007808189848053319\n",
      "(-0.007804561542597505+0.00023800804829030614j)\n",
      "0.007808189848053319\n",
      "Eta is 4e-09 and fidelity is 0.007808189851297327\n",
      "(-0.007804660945329205+0.0002347259729037425j)\n",
      "0.007808189851297327\n",
      "Eta is 5e-09 and fidelity is 0.0078081898461747935\n",
      "(-0.00780475895946521+0.00023144385616103886j)\n",
      "0.0078081898461747935\n",
      "Eta is 6.000000000000001e-09 and fidelity is 0.007808189832685486\n",
      "(-0.0078048555849875205+0.00022816169867463927j)\n",
      "0.007808189832685486\n",
      "Eta is 7.000000000000001e-09 and fidelity is 0.007808189810829723\n",
      "(-0.00780495082187899+0.00022487950105688095j)\n",
      "0.007808189810829723\n",
      "Eta is 8e-09 and fidelity is 0.007808189780607813\n",
      "(-0.007805044670122725+0.00022159726392064153j)\n",
      "0.007808189780607813\n",
      "Eta is 9.000000000000001e-09 and fidelity is 0.007808189742021207\n",
      "(-0.007805137129703284+0.0002183149878784701j)\n",
      "0.007808189742021207\n",
      "Eta is 0.0 and fidelity is 0.015615032358546553\n",
      "(-0.01560706883069989+0.0004986362123350516j)\n",
      "0.015615032358546553\n",
      "Eta is 1e-09 and fidelity is 0.015615032327737786\n",
      "(-0.015607276745523539+0.0004920845302753546j)\n",
      "0.015615032327737786\n",
      "Eta is 2e-09 and fidelity is 0.015615032306156875\n",
      "(-0.015607481918157381+0.00048553279674319524j)\n",
      "0.015615032306156875\n",
      "Eta is 3.0000000000000004e-09 and fidelity is 0.015615032305060469\n",
      "(-0.01560768435972074+0.0004789810177978505j)\n",
      "0.015615032305060469\n",
      "Eta is 4e-09 and fidelity is 0.015615032425202902\n",
      "(-0.015607884091672223+0.00047243181631124076j)\n",
      "0.015615032425202902\n",
      "Eta is 5e-09 and fidelity is 0.01561503245925751\n",
      "(-0.0156080810680878+0.0004658798940336706j)\n",
      "0.01561503245925751\n",
      "Eta is 6.000000000000001e-09 and fidelity is 0.01561503249540926\n",
      "(-0.015608275296423354+0.00045932788261498944j)\n",
      "0.01561503249540926\n",
      "Eta is 7.000000000000001e-09 and fidelity is 0.01561503252827988\n",
      "(-0.015608466771493041+0.0004527757750105103j)\n",
      "0.01561503252827988\n",
      "Eta is 8e-09 and fidelity is 0.015615032527542103\n",
      "(-0.015608655463768923+0.0004462235421338106j)\n",
      "0.015615032527542103\n",
      "Eta is 9.000000000000001e-09 and fidelity is 0.015615032520518251\n",
      "(-0.015608841399414064+0.0004396712235070154j)\n",
      "0.015615032520518251\n",
      "Eta is 0.0 and fidelity is 0.02342070436961902\n",
      "(-0.02340863436395548+0.000751818052279952j)\n",
      "0.02342070436961902\n",
      "Eta is 1e-09 and fidelity is 0.02342070429401388\n",
      "(-0.023408947418289236+0.0007420043095628261j)\n",
      "0.02342070429401388\n",
      "Eta is 2e-09 and fidelity is 0.02342070423640203\n",
      "(-0.02340925637501164+0.0007321904793132249j)\n",
      "0.02342070423640203\n",
      "Eta is 3.0000000000000004e-09 and fidelity is 0.023420704203519778\n",
      "(-0.02340956124074857+0.0007223765669034507j)\n",
      "0.023420704203519778\n",
      "Eta is 4e-09 and fidelity is 0.023420704195064184\n",
      "(-0.023409862015563176+0.000712562562158237j)\n",
      "0.023420704195064184\n",
      "Eta is 5e-09 and fidelity is 0.023420704209885988\n",
      "(-0.023410158698832884+0.0007027484488992708j)\n",
      "0.023420704209885988\n",
      "Eta is 6.000000000000001e-09 and fidelity is 0.023420704116502707\n",
      "(-0.023410451159475387+0.0006929342123062041j)\n",
      "0.023420704116502707\n",
      "Eta is 7.000000000000001e-09 and fidelity is 0.023420704132590058\n",
      "(-0.023410739615193896+0.0006831198547195507j)\n",
      "0.023420704132590058\n",
      "Eta is 8e-09 and fidelity is 0.023420704151603508\n",
      "(-0.023411023959569264+0.0006733053701046026j)\n",
      "0.023420704151603508\n",
      "Eta is 9.000000000000001e-09 and fidelity is 0.023420704119757683\n",
      "(-0.023411304140281235+0.0006634907056509606j)\n",
      "0.023420704119757683\n",
      "Eta is 0.0 and fidelity is 0.031224262813158085\n",
      "(-0.031208002649117293+0.0010075509306506259j)\n",
      "0.031224262813158085\n",
      "Eta is 1e-09 and fidelity is 0.031224262712835772\n",
      "(-0.03120842198337043+0.0009944743677277336j)\n",
      "0.031224262712835772\n",
      "Eta is 2e-09 and fidelity is 0.0312242626196177\n",
      "(-0.031208835844057304+0.0009813976755318466j)\n",
      "0.0312242626196177\n",
      "Eta is 3.0000000000000004e-09 and fidelity is 0.03122426254555893\n",
      "(-0.031209244242827595+0.0009683208690960279j)\n",
      "0.03122426254555893\n",
      "Eta is 4e-09 and fidelity is 0.031224262498832367\n",
      "(-0.031209647188219242+0.000955243938932843j)\n",
      "0.031224262498832367\n",
      "Eta is 5e-09 and fidelity is 0.03122426249305646\n",
      "(-0.03121004469455499+0.0009421668637627175j)\n",
      "0.03122426249305646\n",
      "Eta is 6.000000000000001e-09 and fidelity is 0.031224262510289768\n",
      "(-0.03121043674427704+0.0009290896312890127j)\n",
      "0.031224262510289768\n",
      "Eta is 7.000000000000001e-09 and fidelity is 0.03122426236749932\n",
      "(-0.03121082315459662+0.000916012230775121j)\n",
      "0.03122426236749932\n",
      "Eta is 8e-09 and fidelity is 0.031224262383156707\n",
      "(-0.031211204243846963+0.000902934671548445j)\n",
      "0.031224262383156707\n",
      "Eta is 9.000000000000001e-09 and fidelity is 0.03122426239981289\n",
      "(-0.03121157985467069+0.0008898569479886667j)\n",
      "0.03122426239981289\n",
      "Eta is 0.0 and fidelity is 0.039025570416303244\n",
      "(-0.039005049639674584+0.0012654046484680392j)\n",
      "0.039025570416303244\n",
      "Eta is 1e-09 and fidelity is 0.03902557021338037\n",
      "(-0.039005576093368965+0.0012490652920823977j)\n",
      "0.03902557021338037\n",
      "Eta is 2e-09 and fidelity is 0.039025569850053315\n",
      "(-0.039006095541280296+0.0012327257383148j)\n",
      "0.039025569850053315\n",
      "Eta is 3.0000000000000004e-09 and fidelity is 0.03902556976690366\n",
      "(-0.03900660842244915+0.0012163860444712124j)\n",
      "0.03902556976690366\n",
      "Eta is 4e-09 and fidelity is 0.03902556987972401\n",
      "(-0.039007114651605015+0.0012000462465102835j)\n",
      "0.03902556987972401\n",
      "Eta is 5e-09 and fidelity is 0.03902556982468629\n",
      "(-0.03900761386749191+0.0011837062583757395j)\n",
      "0.03902556982468629\n",
      "Eta is 6.000000000000001e-09 and fidelity is 0.039025569806511534\n",
      "(-0.039008106275216066+0.0011673660712705738j)\n",
      "0.039025569806511534\n",
      "Eta is 7.000000000000001e-09 and fidelity is 0.03902556982783495\n",
      "(-0.039008591877486495+0.0011510256829960646j)\n",
      "0.03902556982783495\n",
      "Eta is 8e-09 and fidelity is 0.0390255696601814\n",
      "(-0.03900907044596319+0.0011346850856304674j)\n",
      "0.0390255696601814\n",
      "Eta is 9.000000000000001e-09 and fidelity is 0.039025569711262205\n",
      "(-0.0390095423881059+0.0011183442936569842j)\n",
      "0.039025569711262205\n",
      "Eta is 0.0 and fidelity is 0.04682434109337433\n",
      "(-0.0467995068688978+0.0015248198767890907j)\n",
      "0.04682434109337433\n",
      "Eta is 1e-09 and fidelity is 0.046824340939900115\n",
      "(-0.0468001412555055+0.001505218562447882j)\n",
      "0.046824340939900115\n",
      "Eta is 2e-09 and fidelity is 0.04682434081952774\n",
      "(-0.04680076746455819+0.0014856170137836082j)\n",
      "0.04682434081952774\n",
      "Eta is 3.0000000000000004e-09 and fidelity is 0.04682434039517245\n",
      "(-0.046801385158865325+0.00146601522997519j)\n",
      "0.04682434039517245\n",
      "Eta is 4e-09 and fidelity is 0.04682434030618059\n",
      "(-0.04680199497591728+0.001446413282302711j)\n",
      "0.04682434030618059\n",
      "Eta is 5e-09 and fidelity is 0.04682434054122048\n",
      "(-0.04680259690454617+0.001426811168567577j)\n",
      "0.04682434054122048\n",
      "Eta is 6.000000000000001e-09 and fidelity is 0.0468243404753674\n",
      "(-0.04680319032178765+0.0014072088173588857j)\n",
      "0.0468243404753674\n"
     ]
    },
    {
     "name": "stdout",
     "output_type": "stream",
     "text": [
      "Eta is 7.000000000000001e-09 and fidelity is 0.04682434044342084\n",
      "(-0.04680377556253615+0.0013876062312919884j)\n",
      "0.04682434044342084\n",
      "Eta is 8e-09 and fidelity is 0.04682434044147916\n",
      "(-0.0468043526229674+0.00136800340806055j)\n",
      "0.04682434044147916\n",
      "Eta is 9.000000000000001e-09 and fidelity is 0.04682434017822097\n",
      "(-0.04680492121191753+0.0013484003381604112j)\n",
      "0.04682434017822097\n",
      "Eta is 0.0 and fidelity is 0.05462012097861762\n",
      "(-0.054590931917963735+0.0017854321737530692j)\n",
      "0.05462012097861762\n",
      "Eta is 1e-09 and fidelity is 0.05462012111407323\n",
      "(-0.05459167498539808+0.0017625699432050619j)\n",
      "0.05462012111407323\n",
      "Eta is 2e-09 and fidelity is 0.05462012096316852\n",
      "(-0.05459240819118594+0.0017397074231305064j)\n",
      "0.05462012096316852\n",
      "Eta is 3.0000000000000004e-09 and fidelity is 0.05462012083057266\n",
      "(-0.054593131839502596+0.0017168446350923432j)\n",
      "0.05462012083057266\n",
      "Eta is 4e-09 and fidelity is 0.054620120711633836\n",
      "(-0.05459384592544698+0.0016939815884500526j)\n",
      "0.054620120711633836\n",
      "Eta is 5e-09 and fidelity is 0.05462012060147325\n",
      "(-0.05459455044397289+0.0016711182902420314j)\n",
      "0.05462012060147325\n",
      "Eta is 6.000000000000001e-09 and fidelity is 0.05462012049931573\n",
      "(-0.05459524539435842+0.0016482547404923138j)\n",
      "0.05462012049931573\n",
      "Eta is 7.000000000000001e-09 and fidelity is 0.05462012040817705\n",
      "(-0.05459593077983767+0.0016253909335705939j)\n",
      "0.05462012040817705\n",
      "Eta is 8e-09 and fidelity is 0.05462012033588721\n",
      "(-0.05459660660845149+0.0016025268636720225j)\n",
      "0.05462012033588721\n",
      "Eta is 9.000000000000001e-09 and fidelity is 0.05462011996367349\n",
      "(-0.05459727256173967+0.0015796625162330096j)\n",
      "0.05462011996367349\n",
      "Eta is 0.0 and fidelity is 0.062411786666994665\n",
      "(-0.06237823429848033+0.0020462162081132263j)\n",
      "0.062411786666994665\n",
      "Eta is 1e-09 and fidelity is 0.06241178651419172\n",
      "(-0.06237908554825618+0.002020094566197573j)\n",
      "0.06241178651419172\n",
      "Eta is 2e-09 and fidelity is 0.06241178636583022\n",
      "(-0.06237992586273529+0.0019939726010351766j)\n",
      "0.06241178636583022\n",
      "Eta is 3.0000000000000004e-09 and fidelity is 0.06241178622976714\n",
      "(-0.06238075524961253+0.001967850319025941j)\n",
      "0.06241178622976714\n",
      "Eta is 4e-09 and fidelity is 0.0624117860968288\n",
      "(-0.062381573699584726+0.0019417277254011923j)\n",
      "0.0624117860968288\n",
      "Eta is 5e-09 and fidelity is 0.0624117859612122\n",
      "(-0.06238238120673803+0.0019156048249525468j)\n",
      "0.0624117859612122\n",
      "Eta is 6.000000000000001e-09 and fidelity is 0.06241178582179253\n",
      "(-0.06238317776987709+0.0018894816212960356j)\n",
      "0.06241178582179253\n",
      "Eta is 7.000000000000001e-09 and fidelity is 0.062411785678859494\n",
      "(-0.06238396338927078+0.0018633581164161268j)\n",
      "0.062411785678859494\n",
      "Eta is 8e-09 and fidelity is 0.06241178553398423\n",
      "(-0.062384738066506004+0.001837234310990388j)\n",
      "0.06241178553398423\n",
      "Eta is 9.000000000000001e-09 and fidelity is 0.06241178539292871\n",
      "(-0.06238550180737087+0.0018111102052375799j)\n",
      "0.06241178539292871\n",
      "Eta is 0.0 and fidelity is 0.07019914041958454\n",
      "(-0.07016123061049118+0.0023067368445542484j)\n",
      "0.07019914041958454\n",
      "Eta is 1e-09 and fidelity is 0.0701991402590701\n",
      "(-0.07016219021350012+0.002277357582204662j)\n",
      "0.0701991402590701\n",
      "Eta is 2e-09 and fidelity is 0.0701991400976875\n",
      "(-0.07016313751339046+0.002247977920669578j)\n",
      "0.0701991400976875\n",
      "Eta is 3.0000000000000004e-09 and fidelity is 0.07019913993542787\n",
      "(-0.0701640725099862+0.0022185978651352973j)\n",
      "0.07019913993542787\n",
      "Eta is 4e-09 and fidelity is 0.070199139772298\n",
      "(-0.07016499520312859+0.002189217420808873j)\n",
      "0.070199139772298\n",
      "Eta is 5e-09 and fidelity is 0.07019913960832018\n",
      "(-0.07016590559267807+0.002159836592850282j)\n",
      "0.07019913960832018\n",
      "Eta is 6.000000000000001e-09 and fidelity is 0.07019913944352839\n",
      "(-0.0701668036785087+0.002130455386428369j)\n",
      "0.07019913944352839\n",
      "Eta is 7.000000000000001e-09 and fidelity is 0.07019913927797175\n",
      "(-0.07016768946051108+0.002101073806737705j)\n",
      "0.07019913927797175\n",
      "Eta is 8e-09 and fidelity is 0.07019913911170503\n",
      "(-0.07016856293858498+0.0020716918589291367j)\n",
      "0.07019913911170503\n",
      "Eta is 9.000000000000001e-09 and fidelity is 0.0701991389468971\n",
      "(-0.0701694241147468+0.002042309548171916j)\n",
      "0.0701991389468971\n"
     ]
    }
   ],
   "source": [
    "etas = [i*(10**-9) for i in range(10)] #Hz in GHz units\n",
    "chis = [i*2*pi*(10**-6) for i in range(10)] #kHz in GHz units \n",
    "\n",
    "fids = []\n",
    "for chi in chis: \n",
    "    for eta in etas: \n",
    "        fids.append(get_fidelity(eta, chi))\n",
    "        print(fids[-1])"
   ]
  },
  {
   "cell_type": "code",
   "execution_count": 91,
   "id": "1fc2d957",
   "metadata": {},
   "outputs": [
    {
     "name": "stdout",
     "output_type": "stream",
     "text": [
      "Eta is 0 and fidelity is 0.0702029989624121\n",
      "(-0.07016468848424363+0.002318955201267111j)\n",
      "Eta is 0 and fidelity is 0.0701995984506399\n",
      "(-0.07016157201579223+0.0023102889221663565j)\n",
      "Eta is 0 and fidelity is 0.07019748154753154\n",
      "(-0.07015972022215482+0.002302188950757811j)\n",
      "Eta is 0 and fidelity is 0.07019884372427067\n",
      "(-0.07016134858469338+0.0022940847852074044j)\n",
      "Eta is 0 and fidelity is 0.07019840980281707\n",
      "(-0.07016118075492199+0.002285925177998331j)\n",
      "Eta is 0 and fidelity is 0.07019833977503274\n",
      "(-0.07016137233239357+0.0022778805074416477j)\n",
      "Eta is 0 and fidelity is 0.07019831280225519\n",
      "(-0.0701616105991633+0.0022696956656436396j)\n",
      "Eta is 0 and fidelity is 0.07019824824869035\n",
      "(-0.07016180978067507+0.002261527246160297j)\n",
      "Eta is 0 and fidelity is 0.07019835068327994\n",
      "(-0.07016218022347864+0.00225319882408358j)\n",
      "Eta is 0 and fidelity is 0.07019822217346025\n",
      "(-0.0701623143341483+0.002245004140454019j)\n"
     ]
    },
    {
     "data": {
      "text/plain": [
       "Text(0, 0.5, 'Fidelity')"
      ]
     },
     "execution_count": 91,
     "metadata": {},
     "output_type": "execute_result"
    },
    {
     "data": {
      "image/png": "[encoded data removed]",
      "text/plain": [
       "<Figure size 576x432 with 1 Axes>"
      ]
     },
     "metadata": {
      "needs_background": "light"
     },
     "output_type": "display_data"
    }
   ],
   "source": [
    "chis = [i*2*pi*(10**-6) for i in range(10)] #kHz in GHz units \n",
    "fids = [get_fidelity(0,chi_2) for chi_2 in chis]\n",
    "\n",
    "fig = plt.figure(figsize=(8,6))\n",
    "plt.plot([eta*(10**3) for eta in etas], fids, linestyle = '--', marker = 'o')\n",
    "\n",
    "plt.xticks(fontsize= 10)\n",
    "plt.yticks(fontsize= 10)\n",
    "plt.xlabel(\"Chi (KHz)\", fontsize = 14)\n",
    "plt.ylabel(\"Fidelity\", fontsize = 14)"
   ]
  },
  {
   "cell_type": "code",
   "execution_count": 93,
   "id": "271b5ccf",
   "metadata": {},
   "outputs": [
    {
     "name": "stdout",
     "output_type": "stream",
     "text": [
      "Eta is 1e-09 and fidelity is 0.07020299883353365\n",
      "(-0.07016565323570417+0.0022895744644021326j)\n",
      "Eta is 1e-09 and fidelity is 0.07019820602898935\n",
      "(-0.07016348583503551+0.0022075744982237465j)\n",
      "Eta is 1e-09 and fidelity is 0.07019805252532667\n",
      "(-0.0701658656983991+0.0021255279679983693j)\n",
      "Eta is 1e-09 and fidelity is 0.07019787681155758\n",
      "(-0.07016813389399733+0.002043255902885598j)\n",
      "Eta is 1e-09 and fidelity is 0.07019767901109755\n",
      "(-0.07017028963565794+0.0019607628599507434j)\n",
      "Eta is 1e-09 and fidelity is 0.07019745813449293\n",
      "(-0.07017233116122865+0.0018780489724036578j)\n",
      "Eta is 1e-09 and fidelity is 0.07019724744599683\n",
      "(-0.07017429104501934+0.0017951115072403054j)\n",
      "Eta is 1e-09 and fidelity is 0.07019697970568259\n",
      "(-0.07017610134939878+0.0017119460268723873j)\n",
      "Eta is 1e-09 and fidelity is 0.07019668726281163\n",
      "(-0.07017779356106714+0.0016285556709010993j)\n",
      "Eta is 1e-09 and fidelity is 0.07019646969870216\n",
      "(-0.07017946666310533+0.0015449326985013453j)\n"
     ]
    },
    {
     "data": {
      "text/plain": [
       "Text(0, 0.5, 'Fidelity')"
      ]
     },
     "execution_count": 93,
     "metadata": {},
     "output_type": "execute_result"
    },
    {
     "data": {
      "image/png": "[encoded data removed]",
      "text/plain": [
       "<Figure size 576x432 with 1 Axes>"
      ]
     },
     "metadata": {
      "needs_background": "light"
     },
     "output_type": "display_data"
    }
   ],
   "source": [
    "chis = [i*10*2*pi*(10**-6) for i in range(10)] #kHz in GHz units \n",
    "fids = [get_fidelity(10**-9,chi_2) for chi_2 in chis]\n",
    "\n",
    "fig = plt.figure(figsize=(8,6))\n",
    "plt.plot([eta*(10**3) for eta in etas], fids, linestyle = '--', marker = 'o')\n",
    "\n",
    "plt.xticks(fontsize= 10)\n",
    "plt.yticks(fontsize= 10)\n",
    "plt.xlabel(\"Chi (KHz)\", fontsize = 14)\n",
    "plt.ylabel(\"Fidelity\", fontsize = 14)"
   ]
  },
  {
   "cell_type": "code",
   "execution_count": 94,
   "id": "feb424a7",
   "metadata": {},
   "outputs": [
    {
     "data": {
      "text/plain": [
       "9e-06"
      ]
     },
     "execution_count": 94,
     "metadata": {},
     "output_type": "execute_result"
    }
   ],
   "source": [
    "chi"
   ]
  },
  {
   "cell_type": "code",
   "execution_count": 95,
   "id": "2cf27d18",
   "metadata": {},
   "outputs": [
    {
     "data": {
      "text/plain": [
       "0.0"
      ]
     },
     "execution_count": 95,
     "metadata": {},
     "output_type": "execute_result"
    }
   ],
   "source": [
    "chis[0]"
   ]
  },
  {
   "cell_type": "code",
   "execution_count": null,
   "id": "f7dc2562",
   "metadata": {},
   "outputs": [],
   "source": []
  }
 ],
 "metadata": {
  "kernelspec": {
   "display_name": "Python 3",
   "language": "python",
   "name": "python3"
  },
  "language_info": {
   "codemirror_mode": {
    "name": "ipython",
    "version": 3
   },
   "file_extension": ".py",
   "mimetype": "text/x-python",
   "name": "python",
   "nbconvert_exporter": "python",
   "pygments_lexer": "ipython3",
   "version": "3.8.8"
  },
  "toc": {
   "base_numbering": 1,
   "nav_menu": {},
   "number_sections": true,
   "sideBar": true,
   "skip_h1_title": false,
   "title_cell": "Table of Contents",
   "title_sidebar": "Contents",
   "toc_cell": false,
   "toc_position": {},
   "toc_section_display": true,
   "toc_window_display": false
  },
  "varInspector": {
   "cols": {
    "lenName": 16,
    "lenType": 16,
    "lenVar": 40
   },
   "kernels_config": {
    "python": {
     "delete_cmd_postfix": "",
     "delete_cmd_prefix": "del ",
     "library": "var_list.py",
     "varRefreshCmd": "print(var_dic_list())"
    },
    "r": {
     "delete_cmd_postfix": ") ",
     "delete_cmd_prefix": "rm(",
     "library": "var_list.r",
     "varRefreshCmd": "cat(var_dic_list()) "
    }
   },
   "types_to_exclude": [
    "module",
    "function",
    "builtin_function_or_method",
    "instance",
    "_Feature"
   ],
   "window_display": false
  }
 },
 "nbformat": 4,
 "nbformat_minor": 5
}
